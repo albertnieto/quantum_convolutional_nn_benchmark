{
 "cells": [
  {
   "cell_type": "markdown",
   "id": "f9024c94-21ed-48c3-87c5-75a81d668c8f",
   "metadata": {
    "editable": true,
    "slideshow": {
     "slide_type": ""
    },
    "tags": []
   },
   "source": [
    "# Aux"
   ]
  },
  {
   "cell_type": "code",
   "execution_count": 22,
   "id": "9ed7a2cf-a066-4f84-8761-f86daf56521d",
   "metadata": {},
   "outputs": [],
   "source": [
    "import torch\n",
    "import torch.optim as optim\n",
    "#%pip install torchvision\n",
    "from torchvision import datasets, transforms\n",
    "from torch.utils.data import DataLoader, Subset, TensorDataset\n",
    "import numpy as np\n",
    "\n",
    "#\n",
    "import torch\n",
    "import torch.nn as nn\n",
    "import torch.optim as optim\n",
    "\n",
    "#%pip install pennylane --user\n",
    "import pennylane as qml\n",
    "from pennylane import numpy as np\n",
    "\n",
    "import sys\n",
    "import os\n",
    "\n",
    "src_path = os.path.abspath(os.path.join('..', 'src'))\n",
    "if src_path not in sys.path:\n",
    "    sys.path.append(src_path)\n",
    "\n",
    "from circuits.convolution.default import default_circuit, custom_circuit\n",
    "from circuits.convolution.NQ_circuit import NQ_circuit\n",
    "from circuits.convolution.no_entanglement_circuit import no_entanglement_random_circuit\n",
    "from circuits.embedding.default import default_embedding, custom_embedding\n",
    "from circuits.embedding.IQP_embedding import custom_iqp_embedding\n",
    "from circuits.embedding.NQE_embedding import NQE_embedding\n",
    "from circuits.embedding.qml_embeddings import angle_embedding, amplitude_embedding, QAOA_embedding, displacement_embedding, squeezing_embedding\n",
    "from circuits.measurement.default import default_measurement, custom_measurement\n",
    "from layers.quanvolution import QuanvLayer\n",
    "from models.quanvolutional_net import QuanvolutionalNet\n",
    "from utils.data_loader import load_mnist_data\n",
    "\n",
    "device = torch.device(\"cuda\" if torch.cuda.is_available() else \"cpu\")\n"
   ]
  },
  {
   "cell_type": "markdown",
   "id": "731858bd-9631-4322-a6a6-47e62b86f948",
   "metadata": {},
   "source": [
    "# Train"
   ]
  },
  {
   "cell_type": "code",
   "execution_count": 27,
   "id": "dc594922-17fc-47db-9e46-ca1b6a0409c0",
   "metadata": {
    "scrolled": true
   },
   "outputs": [
    {
     "name": "stderr",
     "output_type": "stream",
     "text": [
      "2024-10-03 10:50:14,677 - root - \u001b[94mINFO\u001b[0m - Logging is set up. (log.py:391)\n",
      "2024-10-03 10:50:14,678 - root - \u001b[94mINFO\u001b[0m - jax logs are set to ERROR level. (log.py:421)\n",
      "2024-10-03 10:50:14,679 - root - \u001b[94mINFO\u001b[0m - pennylane logs are set to ERROR level. (log.py:421)\n",
      "2024-10-03 10:50:14,681 - root - \u001b[94mINFO\u001b[0m - bokeh logs are set to ERROR level. (log.py:421)\n",
      "2024-10-03 10:50:14,683 - root - \u001b[94mINFO\u001b[0m - distributed logs are set to ERROR level. (log.py:421)\n"
     ]
    },
    {
     "name": "stdout",
     "output_type": "stream",
     "text": [
      "Using device: cpu\n"
     ]
    }
   ],
   "source": [
    "#%pip install qcml\n",
    "#%pip install scikit-learn\n",
    "#%pip install dask\n",
    "#%pip install pynvml\n",
    "#%pip install pandas\n",
    "#%pip install matplotlib --user\n",
    "#%pip install seaborn\n",
    "#%pip install jax\n",
    "from qcml.bench.grid_search import GridSearch\n",
    "from qcml.utils.log import log_setup\n",
    "import os\n",
    "\n",
    "log_settings = {\n",
    "    \"output\": \"both\",\n",
    "    \"terminal_level\": \"INFO\",\n",
    "    \"file_level\": \"DEBUG\",\n",
    "    \"hide_logs\": [\"jax\", \"pennylane\", \"bokeh\", \"distributed\"],\n",
    "    \"slack_notify\": False\n",
    "}\n",
    "\n",
    "log_setup(**log_settings)\n",
    "\n",
    "X_train, y_train, X_val, y_val = load_mnist_data(batch_size=4, output='np', limit=250)\n",
    "\n",
    "os.environ[\"JAX_PLATFORM_NAME\"] = \"cpu\"\n",
    "os.environ[\"XLA_PYTHON_CLIENT_PREALLOCATE\"] = \"false\"\n",
    "\n",
    "device = torch.device(\"cuda\" if torch.cuda.is_available() else \"cpu\")\n",
    "print(f\"Using device: {device}\")\n",
    "torch.backends.cudnn.benchmark = True"
   ]
  },
  {
   "cell_type": "code",
   "execution_count": 29,
   "id": "710ebb4e-39d0-4813-9f13-4c008e8d7b45",
   "metadata": {},
   "outputs": [
    {
     "name": "stderr",
     "output_type": "stream",
     "text": [
      "2024-10-03 11:03:15,575 - qcml.bench.grid_search - \u001b[94mINFO\u001b[0m - Starting grid search with QuanvolutionalNet, 18 combinations, 12 parallel jobs (grid_search.py:165)\n"
     ]
    },
    {
     "name": "stdout",
     "output_type": "stream",
     "text": [
      "Epoch 1/10, Loss: 2.3095\n",
      "Epoch 2/10, Loss: 2.2887\n",
      "Epoch 3/10, Loss: 2.2801\n",
      "Epoch 4/10, Loss: 2.2791\n",
      "Epoch 5/10, Loss: 2.2622\n",
      "Epoch 6/10, Loss: 2.2523\n",
      "Epoch 7/10, Loss: 2.2159\n",
      "Epoch 8/10, Loss: 2.1918\n",
      "Epoch 9/10, Loss: 2.1252\n",
      "Epoch 10/10, Loss: 2.0605\n"
     ]
    },
    {
     "name": "stderr",
     "output_type": "stream",
     "text": [
      "2024-10-03 11:03:22,152 - qcml.bench.grid_search - \u001b[94mINFO\u001b[0m - Evaluated params: {'qkernel_shape': 2, 'classical_kernel_shape': 2, 'embedding': <function custom_iqp_embedding at 0x000002542E285480>, 'circuit': <function NQ_circuit at 0x000002542E12F250>, 'measurement': <function custom_measurement at 0x000002542E287520>, 'params': {'embedding': {'n_repeats': 2}}, 'n_classes': 10, 'learning_rate': 0.00800000037997961}, accuracy: 0.2920 (grid_search.py:241)\n"
     ]
    },
    {
     "name": "stdout",
     "output_type": "stream",
     "text": [
      "Epoch 1/10, Loss: 2.3030\n",
      "Epoch 2/10, Loss: 2.2867\n",
      "Epoch 3/10, Loss: 2.2836\n",
      "Epoch 4/10, Loss: 2.2531\n",
      "Epoch 5/10, Loss: 2.1901\n",
      "Epoch 6/10, Loss: 2.0396\n",
      "Epoch 7/10, Loss: 1.9661\n",
      "Epoch 8/10, Loss: 1.8269\n",
      "Epoch 9/10, Loss: 1.7511\n",
      "Epoch 10/10, Loss: 1.6596\n"
     ]
    },
    {
     "name": "stderr",
     "output_type": "stream",
     "text": [
      "2024-10-03 11:03:27,919 - qcml.bench.grid_search - \u001b[94mINFO\u001b[0m - Evaluated params: {'qkernel_shape': 2, 'classical_kernel_shape': 2, 'embedding': <function custom_iqp_embedding at 0x000002542E285480>, 'circuit': <function NQ_circuit at 0x000002542E12F250>, 'measurement': <function custom_measurement at 0x000002542E287520>, 'params': {'embedding': {'n_repeats': 2}}, 'n_classes': 10, 'learning_rate': 0.029000001028180122}, accuracy: 0.3600 (grid_search.py:241)\n"
     ]
    },
    {
     "name": "stdout",
     "output_type": "stream",
     "text": [
      "Epoch 1/10, Loss: 2.3137\n",
      "Epoch 2/10, Loss: 2.2998\n",
      "Epoch 3/10, Loss: 2.2882\n",
      "Epoch 4/10, Loss: 2.2639\n",
      "Epoch 5/10, Loss: 2.4902\n",
      "Epoch 6/10, Loss: 2.2827\n",
      "Epoch 7/10, Loss: 2.2503\n",
      "Epoch 8/10, Loss: 2.2198\n",
      "Epoch 9/10, Loss: 2.2171\n",
      "Epoch 10/10, Loss: 2.1745\n"
     ]
    },
    {
     "name": "stderr",
     "output_type": "stream",
     "text": [
      "2024-10-03 11:03:33,084 - qcml.bench.grid_search - \u001b[94mINFO\u001b[0m - Evaluated params: {'qkernel_shape': 2, 'classical_kernel_shape': 2, 'embedding': <function custom_iqp_embedding at 0x000002542E285480>, 'circuit': <function NQ_circuit at 0x000002542E12F250>, 'measurement': <function custom_measurement at 0x000002542E287520>, 'params': {'embedding': {'n_repeats': 2}}, 'n_classes': 10, 'learning_rate': 0.05000000074505806}, accuracy: 0.2400 (grid_search.py:241)\n"
     ]
    },
    {
     "name": "stdout",
     "output_type": "stream",
     "text": [
      "Epoch 1/10, Loss: 2.3071\n",
      "Epoch 2/10, Loss: 2.2927\n",
      "Epoch 3/10, Loss: 2.2799\n",
      "Epoch 4/10, Loss: 2.2733\n",
      "Epoch 5/10, Loss: 2.2569\n",
      "Epoch 6/10, Loss: 2.2259\n",
      "Epoch 7/10, Loss: 2.1800\n",
      "Epoch 8/10, Loss: 2.1243\n",
      "Epoch 9/10, Loss: 2.0487\n",
      "Epoch 10/10, Loss: 1.9949\n"
     ]
    },
    {
     "name": "stderr",
     "output_type": "stream",
     "text": [
      "2024-10-03 11:03:38,624 - qcml.bench.grid_search - \u001b[94mINFO\u001b[0m - Evaluated params: {'qkernel_shape': 2, 'classical_kernel_shape': 3, 'embedding': <function custom_iqp_embedding at 0x000002542E285480>, 'circuit': <function NQ_circuit at 0x000002542E12F250>, 'measurement': <function custom_measurement at 0x000002542E287520>, 'params': {'embedding': {'n_repeats': 2}}, 'n_classes': 10, 'learning_rate': 0.00800000037997961}, accuracy: 0.2320 (grid_search.py:241)\n"
     ]
    },
    {
     "name": "stdout",
     "output_type": "stream",
     "text": [
      "Epoch 1/10, Loss: 2.2995\n",
      "Epoch 2/10, Loss: 2.2869\n",
      "Epoch 3/10, Loss: 2.2863\n",
      "Epoch 4/10, Loss: 2.2443\n",
      "Epoch 5/10, Loss: 2.1919\n",
      "Epoch 6/10, Loss: 2.0319\n",
      "Epoch 7/10, Loss: 2.1132\n",
      "Epoch 8/10, Loss: 1.9430\n",
      "Epoch 9/10, Loss: 1.9184\n",
      "Epoch 10/10, Loss: 1.9827\n"
     ]
    },
    {
     "name": "stderr",
     "output_type": "stream",
     "text": [
      "2024-10-03 11:03:44,922 - qcml.bench.grid_search - \u001b[94mINFO\u001b[0m - Evaluated params: {'qkernel_shape': 2, 'classical_kernel_shape': 3, 'embedding': <function custom_iqp_embedding at 0x000002542E285480>, 'circuit': <function NQ_circuit at 0x000002542E12F250>, 'measurement': <function custom_measurement at 0x000002542E287520>, 'params': {'embedding': {'n_repeats': 2}}, 'n_classes': 10, 'learning_rate': 0.029000001028180122}, accuracy: 0.2920 (grid_search.py:241)\n"
     ]
    },
    {
     "name": "stdout",
     "output_type": "stream",
     "text": [
      "Epoch 1/10, Loss: 2.3308\n",
      "Epoch 2/10, Loss: 2.2962\n",
      "Epoch 3/10, Loss: 2.2929\n",
      "Epoch 4/10, Loss: 2.3144\n",
      "Epoch 5/10, Loss: 2.2768\n",
      "Epoch 6/10, Loss: 2.2460\n",
      "Epoch 7/10, Loss: 2.2276\n",
      "Epoch 8/10, Loss: 2.2860\n",
      "Epoch 9/10, Loss: 2.2316\n",
      "Epoch 10/10, Loss: 2.1888\n"
     ]
    },
    {
     "name": "stderr",
     "output_type": "stream",
     "text": [
      "2024-10-03 11:03:50,098 - qcml.bench.grid_search - \u001b[94mINFO\u001b[0m - Evaluated params: {'qkernel_shape': 2, 'classical_kernel_shape': 3, 'embedding': <function custom_iqp_embedding at 0x000002542E285480>, 'circuit': <function NQ_circuit at 0x000002542E12F250>, 'measurement': <function custom_measurement at 0x000002542E287520>, 'params': {'embedding': {'n_repeats': 2}}, 'n_classes': 10, 'learning_rate': 0.05000000074505806}, accuracy: 0.1960 (grid_search.py:241)\n"
     ]
    },
    {
     "name": "stdout",
     "output_type": "stream",
     "text": [
      "Epoch 1/10, Loss: 2.3045\n",
      "Epoch 2/10, Loss: 2.2917\n",
      "Epoch 3/10, Loss: 2.2893\n",
      "Epoch 4/10, Loss: 2.2708\n",
      "Epoch 5/10, Loss: 2.2587\n",
      "Epoch 6/10, Loss: 2.2276\n",
      "Epoch 7/10, Loss: 2.1582\n",
      "Epoch 8/10, Loss: 2.0618\n",
      "Epoch 9/10, Loss: 2.0286\n",
      "Epoch 10/10, Loss: 2.0244\n"
     ]
    },
    {
     "name": "stderr",
     "output_type": "stream",
     "text": [
      "2024-10-03 11:03:55,838 - qcml.bench.grid_search - \u001b[94mINFO\u001b[0m - Evaluated params: {'qkernel_shape': 2, 'classical_kernel_shape': 5, 'embedding': <function custom_iqp_embedding at 0x000002542E285480>, 'circuit': <function NQ_circuit at 0x000002542E12F250>, 'measurement': <function custom_measurement at 0x000002542E287520>, 'params': {'embedding': {'n_repeats': 2}}, 'n_classes': 10, 'learning_rate': 0.00800000037997961}, accuracy: 0.2720 (grid_search.py:241)\n"
     ]
    },
    {
     "name": "stdout",
     "output_type": "stream",
     "text": [
      "Epoch 1/10, Loss: 2.3153\n",
      "Epoch 2/10, Loss: 2.3055\n",
      "Epoch 3/10, Loss: 2.2911\n",
      "Epoch 4/10, Loss: 2.2561\n",
      "Epoch 5/10, Loss: 2.2881\n",
      "Epoch 6/10, Loss: 2.2518\n",
      "Epoch 7/10, Loss: 2.2934\n",
      "Epoch 8/10, Loss: 2.2937\n",
      "Epoch 9/10, Loss: 2.2620\n",
      "Epoch 10/10, Loss: 2.1645\n"
     ]
    },
    {
     "name": "stderr",
     "output_type": "stream",
     "text": [
      "2024-10-03 11:04:02,947 - qcml.bench.grid_search - \u001b[94mINFO\u001b[0m - Evaluated params: {'qkernel_shape': 2, 'classical_kernel_shape': 5, 'embedding': <function custom_iqp_embedding at 0x000002542E285480>, 'circuit': <function NQ_circuit at 0x000002542E12F250>, 'measurement': <function custom_measurement at 0x000002542E287520>, 'params': {'embedding': {'n_repeats': 2}}, 'n_classes': 10, 'learning_rate': 0.029000001028180122}, accuracy: 0.1720 (grid_search.py:241)\n"
     ]
    },
    {
     "name": "stdout",
     "output_type": "stream",
     "text": [
      "Epoch 1/10, Loss: 2.3189\n",
      "Epoch 2/10, Loss: 2.3364\n",
      "Epoch 3/10, Loss: 2.3101\n",
      "Epoch 4/10, Loss: 2.2756\n",
      "Epoch 5/10, Loss: 2.2088\n",
      "Epoch 6/10, Loss: 2.2204\n",
      "Epoch 7/10, Loss: 2.2378\n",
      "Epoch 8/10, Loss: 2.6519\n",
      "Epoch 9/10, Loss: 2.2822\n",
      "Epoch 10/10, Loss: 2.1287\n"
     ]
    },
    {
     "name": "stderr",
     "output_type": "stream",
     "text": [
      "2024-10-03 11:04:08,594 - qcml.bench.grid_search - \u001b[94mINFO\u001b[0m - Evaluated params: {'qkernel_shape': 2, 'classical_kernel_shape': 5, 'embedding': <function custom_iqp_embedding at 0x000002542E285480>, 'circuit': <function NQ_circuit at 0x000002542E12F250>, 'measurement': <function custom_measurement at 0x000002542E287520>, 'params': {'embedding': {'n_repeats': 2}}, 'n_classes': 10, 'learning_rate': 0.05000000074505806}, accuracy: 0.1160 (grid_search.py:241)\n"
     ]
    },
    {
     "name": "stdout",
     "output_type": "stream",
     "text": [
      "Epoch 1/10, Loss: 2.3036\n",
      "Epoch 2/10, Loss: 2.2926\n",
      "Epoch 3/10, Loss: 2.2859\n",
      "Epoch 4/10, Loss: 2.2852\n",
      "Epoch 5/10, Loss: 2.2765\n",
      "Epoch 6/10, Loss: 2.2704\n",
      "Epoch 7/10, Loss: 2.2547\n",
      "Epoch 8/10, Loss: 2.2337\n",
      "Epoch 9/10, Loss: 2.2112\n",
      "Epoch 10/10, Loss: 2.1460\n"
     ]
    },
    {
     "name": "stderr",
     "output_type": "stream",
     "text": [
      "2024-10-03 11:04:59,248 - qcml.bench.grid_search - \u001b[94mINFO\u001b[0m - Evaluated params: {'qkernel_shape': 3, 'classical_kernel_shape': 2, 'embedding': <function custom_iqp_embedding at 0x000002542E285480>, 'circuit': <function NQ_circuit at 0x000002542E12F250>, 'measurement': <function custom_measurement at 0x000002542E287520>, 'params': {'embedding': {'n_repeats': 2}}, 'n_classes': 10, 'learning_rate': 0.00800000037997961}, accuracy: 0.2000 (grid_search.py:241)\n"
     ]
    },
    {
     "name": "stdout",
     "output_type": "stream",
     "text": [
      "Epoch 1/10, Loss: 2.3091\n",
      "Epoch 2/10, Loss: 2.2873\n",
      "Epoch 3/10, Loss: 2.2793\n",
      "Epoch 4/10, Loss: 2.2868\n",
      "Epoch 5/10, Loss: 2.2470\n",
      "Epoch 6/10, Loss: 2.2158\n",
      "Epoch 7/10, Loss: 2.1811\n",
      "Epoch 8/10, Loss: 2.1426\n",
      "Epoch 9/10, Loss: 2.0923\n",
      "Epoch 10/10, Loss: 2.0724\n"
     ]
    },
    {
     "name": "stderr",
     "output_type": "stream",
     "text": [
      "2024-10-03 11:05:47,388 - qcml.bench.grid_search - \u001b[94mINFO\u001b[0m - Evaluated params: {'qkernel_shape': 3, 'classical_kernel_shape': 2, 'embedding': <function custom_iqp_embedding at 0x000002542E285480>, 'circuit': <function NQ_circuit at 0x000002542E12F250>, 'measurement': <function custom_measurement at 0x000002542E287520>, 'params': {'embedding': {'n_repeats': 2}}, 'n_classes': 10, 'learning_rate': 0.029000001028180122}, accuracy: 0.2760 (grid_search.py:241)\n"
     ]
    },
    {
     "name": "stdout",
     "output_type": "stream",
     "text": [
      "Epoch 1/10, Loss: 2.3190\n",
      "Epoch 2/10, Loss: 2.2876\n",
      "Epoch 3/10, Loss: 2.2958\n",
      "Epoch 4/10, Loss: 2.2826\n",
      "Epoch 5/10, Loss: 2.2522\n",
      "Epoch 6/10, Loss: 2.2052\n",
      "Epoch 7/10, Loss: 2.1795\n",
      "Epoch 8/10, Loss: 2.1369\n",
      "Epoch 9/10, Loss: 2.0959\n",
      "Epoch 10/10, Loss: 2.0735\n"
     ]
    },
    {
     "name": "stderr",
     "output_type": "stream",
     "text": [
      "2024-10-03 11:06:35,124 - qcml.bench.grid_search - \u001b[94mINFO\u001b[0m - Evaluated params: {'qkernel_shape': 3, 'classical_kernel_shape': 2, 'embedding': <function custom_iqp_embedding at 0x000002542E285480>, 'circuit': <function NQ_circuit at 0x000002542E12F250>, 'measurement': <function custom_measurement at 0x000002542E287520>, 'params': {'embedding': {'n_repeats': 2}}, 'n_classes': 10, 'learning_rate': 0.05000000074505806}, accuracy: 0.1480 (grid_search.py:241)\n"
     ]
    },
    {
     "name": "stdout",
     "output_type": "stream",
     "text": [
      "Epoch 1/10, Loss: 2.3087\n",
      "Epoch 2/10, Loss: 2.2909\n",
      "Epoch 3/10, Loss: 2.2919\n",
      "Epoch 4/10, Loss: 2.2752\n",
      "Epoch 5/10, Loss: 2.2666\n",
      "Epoch 6/10, Loss: 2.2521\n",
      "Epoch 7/10, Loss: 2.2177\n",
      "Epoch 8/10, Loss: 2.1873\n",
      "Epoch 9/10, Loss: 2.1263\n",
      "Epoch 10/10, Loss: 2.0878\n"
     ]
    },
    {
     "name": "stderr",
     "output_type": "stream",
     "text": [
      "2024-10-03 11:07:23,088 - qcml.bench.grid_search - \u001b[94mINFO\u001b[0m - Evaluated params: {'qkernel_shape': 3, 'classical_kernel_shape': 3, 'embedding': <function custom_iqp_embedding at 0x000002542E285480>, 'circuit': <function NQ_circuit at 0x000002542E12F250>, 'measurement': <function custom_measurement at 0x000002542E287520>, 'params': {'embedding': {'n_repeats': 2}}, 'n_classes': 10, 'learning_rate': 0.00800000037997961}, accuracy: 0.2480 (grid_search.py:241)\n"
     ]
    },
    {
     "name": "stdout",
     "output_type": "stream",
     "text": [
      "Epoch 1/10, Loss: 2.3044\n",
      "Epoch 2/10, Loss: 2.2849\n",
      "Epoch 3/10, Loss: 2.2652\n",
      "Epoch 4/10, Loss: 2.2051\n",
      "Epoch 5/10, Loss: 2.2826\n",
      "Epoch 6/10, Loss: 2.1521\n",
      "Epoch 7/10, Loss: 2.0942\n",
      "Epoch 8/10, Loss: 1.9879\n",
      "Epoch 9/10, Loss: 1.9974\n",
      "Epoch 10/10, Loss: 2.0074\n"
     ]
    },
    {
     "name": "stderr",
     "output_type": "stream",
     "text": [
      "2024-10-03 11:08:09,440 - qcml.bench.grid_search - \u001b[94mINFO\u001b[0m - Evaluated params: {'qkernel_shape': 3, 'classical_kernel_shape': 3, 'embedding': <function custom_iqp_embedding at 0x000002542E285480>, 'circuit': <function NQ_circuit at 0x000002542E12F250>, 'measurement': <function custom_measurement at 0x000002542E287520>, 'params': {'embedding': {'n_repeats': 2}}, 'n_classes': 10, 'learning_rate': 0.029000001028180122}, accuracy: 0.1920 (grid_search.py:241)\n"
     ]
    },
    {
     "name": "stdout",
     "output_type": "stream",
     "text": [
      "Epoch 1/10, Loss: 2.3296\n",
      "Epoch 2/10, Loss: 2.2931\n",
      "Epoch 3/10, Loss: 2.2810\n",
      "Epoch 4/10, Loss: 2.2758\n",
      "Epoch 5/10, Loss: 2.2646\n",
      "Epoch 6/10, Loss: 2.2646\n",
      "Epoch 7/10, Loss: 2.2674\n",
      "Epoch 8/10, Loss: 2.3194\n",
      "Epoch 9/10, Loss: 2.4958\n",
      "Epoch 10/10, Loss: 2.3038\n"
     ]
    },
    {
     "name": "stderr",
     "output_type": "stream",
     "text": [
      "2024-10-03 11:08:58,671 - qcml.bench.grid_search - \u001b[94mINFO\u001b[0m - Evaluated params: {'qkernel_shape': 3, 'classical_kernel_shape': 3, 'embedding': <function custom_iqp_embedding at 0x000002542E285480>, 'circuit': <function NQ_circuit at 0x000002542E12F250>, 'measurement': <function custom_measurement at 0x000002542E287520>, 'params': {'embedding': {'n_repeats': 2}}, 'n_classes': 10, 'learning_rate': 0.05000000074505806}, accuracy: 0.1600 (grid_search.py:241)\n"
     ]
    },
    {
     "name": "stdout",
     "output_type": "stream",
     "text": [
      "Epoch 1/10, Loss: 2.3031\n",
      "Epoch 2/10, Loss: 2.2832\n",
      "Epoch 3/10, Loss: 2.2735\n",
      "Epoch 4/10, Loss: 2.2473\n",
      "Epoch 5/10, Loss: 2.2052\n",
      "Epoch 6/10, Loss: 2.1402\n",
      "Epoch 7/10, Loss: 2.0450\n",
      "Epoch 8/10, Loss: 2.1253\n",
      "Epoch 9/10, Loss: 2.0143\n",
      "Epoch 10/10, Loss: 2.0226\n"
     ]
    },
    {
     "name": "stderr",
     "output_type": "stream",
     "text": [
      "2024-10-03 11:09:46,547 - qcml.bench.grid_search - \u001b[94mINFO\u001b[0m - Evaluated params: {'qkernel_shape': 3, 'classical_kernel_shape': 5, 'embedding': <function custom_iqp_embedding at 0x000002542E285480>, 'circuit': <function NQ_circuit at 0x000002542E12F250>, 'measurement': <function custom_measurement at 0x000002542E287520>, 'params': {'embedding': {'n_repeats': 2}}, 'n_classes': 10, 'learning_rate': 0.00800000037997961}, accuracy: 0.1960 (grid_search.py:241)\n"
     ]
    },
    {
     "name": "stdout",
     "output_type": "stream",
     "text": [
      "Epoch 1/10, Loss: 2.3191\n",
      "Epoch 2/10, Loss: 2.2838\n",
      "Epoch 3/10, Loss: 2.2973\n",
      "Epoch 4/10, Loss: 2.2640\n",
      "Epoch 5/10, Loss: 2.2231\n",
      "Epoch 6/10, Loss: 2.3583\n",
      "Epoch 7/10, Loss: 2.2007\n",
      "Epoch 8/10, Loss: 2.1757\n",
      "Epoch 9/10, Loss: 2.0563\n",
      "Epoch 10/10, Loss: 2.2070\n"
     ]
    },
    {
     "name": "stderr",
     "output_type": "stream",
     "text": [
      "2024-10-03 11:10:34,632 - qcml.bench.grid_search - \u001b[94mINFO\u001b[0m - Evaluated params: {'qkernel_shape': 3, 'classical_kernel_shape': 5, 'embedding': <function custom_iqp_embedding at 0x000002542E285480>, 'circuit': <function NQ_circuit at 0x000002542E12F250>, 'measurement': <function custom_measurement at 0x000002542E287520>, 'params': {'embedding': {'n_repeats': 2}}, 'n_classes': 10, 'learning_rate': 0.029000001028180122}, accuracy: 0.2120 (grid_search.py:241)\n"
     ]
    },
    {
     "name": "stdout",
     "output_type": "stream",
     "text": [
      "Epoch 1/10, Loss: 2.3434\n",
      "Epoch 2/10, Loss: 2.2937\n",
      "Epoch 3/10, Loss: 2.3938\n",
      "Epoch 4/10, Loss: 2.3214\n",
      "Epoch 5/10, Loss: 2.2784\n",
      "Epoch 6/10, Loss: 2.3322\n",
      "Epoch 7/10, Loss: 2.3146\n",
      "Epoch 8/10, Loss: 2.2601\n",
      "Epoch 9/10, Loss: 2.2618\n",
      "Epoch 10/10, Loss: 2.2581\n"
     ]
    },
    {
     "name": "stderr",
     "output_type": "stream",
     "text": [
      "2024-10-03 11:11:33,231 - qcml.bench.grid_search - \u001b[94mINFO\u001b[0m - Evaluated params: {'qkernel_shape': 3, 'classical_kernel_shape': 5, 'embedding': <function custom_iqp_embedding at 0x000002542E285480>, 'circuit': <function NQ_circuit at 0x000002542E12F250>, 'measurement': <function custom_measurement at 0x000002542E287520>, 'params': {'embedding': {'n_repeats': 2}}, 'n_classes': 10, 'learning_rate': 0.05000000074505806}, accuracy: 0.1720 (grid_search.py:241)\n",
      "2024-10-03 11:11:33,238 - qcml.utils.storage - \u001b[94mINFO\u001b[0m - Results saved to results/grid_search/QuanvolutionalNet-quantum_mnist_IQP,_best-hypa.csv, file size: 8164 bytes (storage.py:48)\n"
     ]
    }
   ],
   "source": [
    "import itertools\n",
    "\n",
    "embedding_type = \"IQP\"\n",
    "\n",
    "qkernel_shape = [2, 3]\n",
    "classical_kernel_shape = [2, 3, 5]\n",
    "\n",
    "if embedding_type == \"angle\":\n",
    "\n",
    "    # Angle embedding\n",
    "\n",
    "    embedding = angle_embedding\n",
    "    circuit = no_entanglement_random_circuit\n",
    "    params = {}\n",
    "\n",
    "    lrs = torch.linspace(0.009, 0.08, 3, requires_grad=False)\n",
    "    learning_rates = [lr.item() for lr in lrs] \n",
    "    \n",
    "\n",
    "elif embedding_type == \"amplitude\":\n",
    "\n",
    "    # Amplitude embedding\n",
    "\n",
    "    embedding = amplitude_embedding\n",
    "    circuit = no_entanglement_random_circuit\n",
    "    params = {}\n",
    "\n",
    "    lrs = torch.linspace(0.008, 0.03, 3, requires_grad=False)\n",
    "    learning_rates = [lr.item() for lr in lrs]\n",
    "    \n",
    "\n",
    "elif embedding_type == \"IQP\":\n",
    "\n",
    "    # IQP embedding\n",
    "\n",
    "    embedding = custom_iqp_embedding\n",
    "    circuit = NQ_circuit\n",
    "    params = {\"embedding\": {\"n_repeats\": 2}}\n",
    "\n",
    "    lrs = torch.linspace(0.008, 0.05, 3, requires_grad=False)\n",
    "    learning_rates = [lr.item() for lr in lrs]\n",
    "\n",
    "elif embedding_type == \"NQE\":\n",
    "\n",
    "    # NQE embedding\n",
    "\n",
    "    embedding = NQE_embedding\n",
    "    circuit = no_entanglement_random_circuit\n",
    "    params = {\"embedding\": {\"n_repeats\": 2}}\n",
    "\n",
    "    lrs = torch.linspace(0.008, 0.05, 3, requires_grad=False)\n",
    "    learning_rates = [lr.item() for lr in lrs]\n",
    "\n",
    "elif embedding_type == \"displacement\":\n",
    "\n",
    "    # Displacement embedding\n",
    "\n",
    "    embedding = angle_embedding\n",
    "    circuit = no_entanglement_random_circuit\n",
    "    params = {}\n",
    "\n",
    "    lrs = torch.linspace(0.009, 0.08, 3, requires_grad=False)\n",
    "    learning_rates = [lr.item() for lr in lrs]\n",
    "\n",
    "elif embedding_type == \"squeezing\":\n",
    "\n",
    "    # Squeezing embedding\n",
    "\n",
    "    embedding = angle_embedding\n",
    "    circuit = no_entanglement_random_circuit\n",
    "    params = {}\n",
    "\n",
    "    lrs = torch.linspace(0.009, 0.08, 3, requires_grad=False)\n",
    "    learning_rates = [lr.item() for lr in lrs]\n",
    "\n",
    "elif embedding_type == \"QAOA\":\n",
    "\n",
    "    # Squeezing embedding\n",
    "\n",
    "    embedding = QAOA_embedding\n",
    "    circuit = NQ_circuit\n",
    "    params = {}\n",
    "\n",
    "    lrs = torch.linspace(0.009, 0.03, 3, requires_grad=False)\n",
    "    learning_rates = [lr.item() for lr in lrs]\n",
    "\n",
    "model_grid = {\n",
    "        \"qkernel_shape\": qkernel_shape,\n",
    "        \"classical_kernel_shape\": classical_kernel_shape,\n",
    "        \"embedding\":[embedding],\n",
    "        \"circuit\":[circuit],\n",
    "        \"measurement\":[custom_measurement],\n",
    "        \"params\":[params],\n",
    "        \"n_classes\":[10],\n",
    "        \"learning_rate\": learning_rates\n",
    "    }\n",
    "\n",
    "experiment_name = \"quantum_mnist_\" + embedding_type + \",\"\n",
    "\n",
    "gs = GridSearch(\n",
    "    classifiers=[QuanvolutionalNet],\n",
    "    param_grid=model_grid,\n",
    "    #combinations=combinations,\n",
    "    batch_size=50,\n",
    "    experiment_name=experiment_name\n",
    ").run(X_train=X_train, y_train=y_train, X_val=X_val, y_val=y_val)"
   ]
  },
  {
   "cell_type": "code",
   "execution_count": 7,
   "id": "c321c41c-1f07-4b23-ae1f-61841772586b",
   "metadata": {},
   "outputs": [
    {
     "name": "stderr",
     "output_type": "stream",
     "text": [
      "2024-09-30 09:15:21,877 - qcml.bench.grid_search - \u001b[94mINFO\u001b[0m - Starting grid search with QuanvolutionalNet, 3 combinations, 50 parallel jobs (grid_search.py:165)\n",
      "2024-09-30 09:15:21,880 - qcml.bench.grid_search - \u001b[91mERROR\u001b[0m - Error with parameters {'classical_kernel_shape': 2, 'n_classes': 10, 'use_quantum': False}: '<=' not supported between instances of 'float' and 'NoneType' (grid_search.py:246)\n"
     ]
    },
    {
     "ename": "TypeError",
     "evalue": "'<=' not supported between instances of 'float' and 'NoneType'",
     "output_type": "error",
     "traceback": [
      "\u001b[0;31m---------------------------------------------------------------------------\u001b[0m",
      "\u001b[0;31mTypeError\u001b[0m                                 Traceback (most recent call last)",
      "Cell \u001b[0;32mIn[7], line 7\u001b[0m\n\u001b[1;32m      1\u001b[0m model_grid_classical \u001b[38;5;241m=\u001b[39m {\n\u001b[1;32m      2\u001b[0m     \u001b[38;5;124m\"\u001b[39m\u001b[38;5;124mclassical_kernel_shape\u001b[39m\u001b[38;5;124m\"\u001b[39m: [\u001b[38;5;241m2\u001b[39m, \u001b[38;5;241m3\u001b[39m, \u001b[38;5;241m5\u001b[39m],\n\u001b[1;32m      3\u001b[0m     \u001b[38;5;124m\"\u001b[39m\u001b[38;5;124mn_classes\u001b[39m\u001b[38;5;124m\"\u001b[39m: [\u001b[38;5;241m10\u001b[39m],\n\u001b[1;32m      4\u001b[0m     \u001b[38;5;124m\"\u001b[39m\u001b[38;5;124muse_quantum\u001b[39m\u001b[38;5;124m\"\u001b[39m: [\u001b[38;5;28;01mFalse\u001b[39;00m],\n\u001b[1;32m      5\u001b[0m }\n\u001b[0;32m----> 7\u001b[0m gs \u001b[38;5;241m=\u001b[39m \u001b[43mGridSearch\u001b[49m\u001b[43m(\u001b[49m\n\u001b[1;32m      8\u001b[0m \u001b[43m    \u001b[49m\u001b[43mclassifiers\u001b[49m\u001b[38;5;241;43m=\u001b[39;49m\u001b[43m[\u001b[49m\u001b[43mQuanvolutionalNet\u001b[49m\u001b[43m]\u001b[49m\u001b[43m,\u001b[49m\n\u001b[1;32m      9\u001b[0m \u001b[43m    \u001b[49m\u001b[43mparam_grid\u001b[49m\u001b[38;5;241;43m=\u001b[39;49m\u001b[43mmodel_grid_classical\u001b[49m\u001b[43m,\u001b[49m\n\u001b[1;32m     10\u001b[0m \u001b[43m    \u001b[49m\u001b[38;5;66;43;03m#checkpoint_interval=1,\u001b[39;49;00m\n\u001b[1;32m     11\u001b[0m \u001b[43m    \u001b[49m\u001b[43mbatch_size\u001b[49m\u001b[38;5;241;43m=\u001b[39;49m\u001b[38;5;241;43m50\u001b[39;49m\u001b[43m,\u001b[49m\n\u001b[1;32m     12\u001b[0m \u001b[43m    \u001b[49m\u001b[43mexperiment_name\u001b[49m\u001b[38;5;241;43m=\u001b[39;49m\u001b[38;5;124;43m\"\u001b[39;49m\u001b[38;5;124;43mclassical_mnist,\u001b[39;49m\u001b[38;5;124;43m\"\u001b[39;49m\n\u001b[1;32m     13\u001b[0m \u001b[43m)\u001b[49m\u001b[38;5;241;43m.\u001b[39;49m\u001b[43mrun\u001b[49m\u001b[43m(\u001b[49m\u001b[43mX_train\u001b[49m\u001b[38;5;241;43m=\u001b[39;49m\u001b[43mX_train\u001b[49m\u001b[43m,\u001b[49m\u001b[43m \u001b[49m\u001b[43my_train\u001b[49m\u001b[38;5;241;43m=\u001b[39;49m\u001b[43my_train\u001b[49m\u001b[43m,\u001b[49m\u001b[43m \u001b[49m\u001b[43mX_val\u001b[49m\u001b[38;5;241;43m=\u001b[39;49m\u001b[43mX_val\u001b[49m\u001b[43m,\u001b[49m\u001b[43m \u001b[49m\u001b[43my_val\u001b[49m\u001b[38;5;241;43m=\u001b[39;49m\u001b[43my_val\u001b[49m\u001b[43m)\u001b[49m\n",
      "File \u001b[0;32m~/.local/lib/python3.10/site-packages/qcml/bench/grid_search.py:106\u001b[0m, in \u001b[0;36mGridSearch.run\u001b[0;34m(self, datasets, X, y, X_train, y_train, X_val, y_val, return_best)\u001b[0m\n\u001b[1;32m    104\u001b[0m \u001b[38;5;28;01melse\u001b[39;00m:\n\u001b[1;32m    105\u001b[0m     \u001b[38;5;28;01mfor\u001b[39;00m \u001b[38;5;28mcls\u001b[39m \u001b[38;5;129;01min\u001b[39;00m \u001b[38;5;28mself\u001b[39m\u001b[38;5;241m.\u001b[39mclassifiers:\n\u001b[0;32m--> 106\u001b[0m         result \u001b[38;5;241m=\u001b[39m \u001b[38;5;28;43mself\u001b[39;49m\u001b[38;5;241;43m.\u001b[39;49m\u001b[43m_process_dataset\u001b[49m\u001b[43m(\u001b[49m\n\u001b[1;32m    107\u001b[0m \u001b[43m            \u001b[49m\u001b[38;5;28;43mcls\u001b[39;49m\u001b[43m,\u001b[49m\u001b[43m \u001b[49m\u001b[38;5;28;43;01mNone\u001b[39;49;00m\u001b[43m,\u001b[49m\u001b[43m \u001b[49m\u001b[43mX_train\u001b[49m\u001b[43m,\u001b[49m\u001b[43m \u001b[49m\u001b[43my_train\u001b[49m\u001b[43m,\u001b[49m\u001b[43m \u001b[49m\u001b[43mX_val\u001b[49m\u001b[43m,\u001b[49m\u001b[43m \u001b[49m\u001b[43my_val\u001b[49m\u001b[43m,\u001b[49m\u001b[43m \u001b[49m\u001b[43mreturn_best\u001b[49m\u001b[43m,\u001b[49m\u001b[43m \u001b[49m\u001b[43mX\u001b[49m\u001b[43m,\u001b[49m\u001b[43m \u001b[49m\u001b[43my\u001b[49m\n\u001b[1;32m    108\u001b[0m \u001b[43m        \u001b[49m\u001b[43m)\u001b[49m\n\u001b[1;32m    109\u001b[0m         all_results\u001b[38;5;241m.\u001b[39mappend(result)\n\u001b[1;32m    111\u001b[0m \u001b[38;5;28;01mreturn\u001b[39;00m \u001b[38;5;28mself\u001b[39m\u001b[38;5;241m.\u001b[39m_select_best_model() \u001b[38;5;28;01mif\u001b[39;00m return_best \u001b[38;5;28;01melse\u001b[39;00m all_results\n",
      "File \u001b[0;32m~/.local/lib/python3.10/site-packages/qcml/bench/grid_search.py:169\u001b[0m, in \u001b[0;36mGridSearch._process_dataset\u001b[0;34m(self, cls, dataset, X_train, y_train, X_val, y_val, return_best, X, y)\u001b[0m\n\u001b[1;32m    164\u001b[0m classifier_name \u001b[38;5;241m=\u001b[39m \u001b[38;5;28mgetattr\u001b[39m(\u001b[38;5;28mcls\u001b[39m, \u001b[38;5;124m\"\u001b[39m\u001b[38;5;124m__name__\u001b[39m\u001b[38;5;124m\"\u001b[39m, \u001b[38;5;28mcls\u001b[39m\u001b[38;5;241m.\u001b[39m\u001b[38;5;18m__class__\u001b[39m\u001b[38;5;241m.\u001b[39m\u001b[38;5;18m__name__\u001b[39m)\n\u001b[1;32m    165\u001b[0m logger\u001b[38;5;241m.\u001b[39minfo(\n\u001b[1;32m    166\u001b[0m     \u001b[38;5;124mf\u001b[39m\u001b[38;5;124m\"\u001b[39m\u001b[38;5;124mStarting grid search with \u001b[39m\u001b[38;5;132;01m{\u001b[39;00mclassifier_name\u001b[38;5;132;01m}\u001b[39;00m\u001b[38;5;124m, \u001b[39m\u001b[38;5;132;01m{\u001b[39;00m\u001b[38;5;28mlen\u001b[39m(\u001b[38;5;28mself\u001b[39m\u001b[38;5;241m.\u001b[39mcombinations)\u001b[38;5;132;01m}\u001b[39;00m\u001b[38;5;124m combinations, \u001b[39m\u001b[38;5;132;01m{\u001b[39;00m\u001b[38;5;28mself\u001b[39m\u001b[38;5;241m.\u001b[39mn_jobs\u001b[38;5;132;01m}\u001b[39;00m\u001b[38;5;124m parallel jobs\u001b[39m\u001b[38;5;124m\"\u001b[39m\n\u001b[1;32m    167\u001b[0m )\n\u001b[0;32m--> 169\u001b[0m best_score, best_params, best_model \u001b[38;5;241m=\u001b[39m \u001b[38;5;28;43mself\u001b[39;49m\u001b[38;5;241;43m.\u001b[39;49m\u001b[43m_evaluate_combinations\u001b[49m\u001b[43m(\u001b[49m\n\u001b[1;32m    170\u001b[0m \u001b[43m    \u001b[49m\u001b[38;5;28;43mcls\u001b[39;49m\u001b[43m,\u001b[49m\u001b[43m \u001b[49m\u001b[43mclassifier_name\u001b[49m\u001b[43m,\u001b[49m\u001b[43m \u001b[49m\u001b[43mX_train\u001b[49m\u001b[43m,\u001b[49m\u001b[43m \u001b[49m\u001b[43my_train\u001b[49m\u001b[43m,\u001b[49m\u001b[43m \u001b[49m\u001b[43mX_val\u001b[49m\u001b[43m,\u001b[49m\u001b[43m \u001b[49m\u001b[43my_val\u001b[49m\n\u001b[1;32m    171\u001b[0m \u001b[43m\u001b[49m\u001b[43m)\u001b[49m\n\u001b[1;32m    173\u001b[0m \u001b[38;5;66;03m# Save results to CSV\u001b[39;00m\n\u001b[1;32m    174\u001b[0m save_results_to_csv(\n\u001b[1;32m    175\u001b[0m     \u001b[38;5;28mself\u001b[39m\u001b[38;5;241m.\u001b[39mresults,\n\u001b[1;32m    176\u001b[0m     classifier_name,\n\u001b[1;32m    177\u001b[0m     \u001b[38;5;28mself\u001b[39m\u001b[38;5;241m.\u001b[39mexperiment_name,\n\u001b[1;32m    178\u001b[0m     \u001b[38;5;28mself\u001b[39m\u001b[38;5;241m.\u001b[39mresults_path,\n\u001b[1;32m    179\u001b[0m )\n",
      "File \u001b[0;32m~/.local/lib/python3.10/site-packages/qcml/bench/grid_search.py:250\u001b[0m, in \u001b[0;36mGridSearch._evaluate_combinations\u001b[0;34m(self, classifier, classifier_name, X_train, y_train, X_val, y_val)\u001b[0m\n\u001b[1;32m    248\u001b[0m         logger\u001b[38;5;241m.\u001b[39merror(traceback\u001b[38;5;241m.\u001b[39mformat_exc())\n\u001b[1;32m    249\u001b[0m     \u001b[38;5;28;01mif\u001b[39;00m \u001b[38;5;28mself\u001b[39m\u001b[38;5;241m.\u001b[39merror_stop:\n\u001b[0;32m--> 250\u001b[0m         \u001b[38;5;28;01mraise\u001b[39;00m e\n\u001b[1;32m    252\u001b[0m \u001b[38;5;28;01mif\u001b[39;00m \u001b[38;5;28mself\u001b[39m\u001b[38;5;241m.\u001b[39mlog_level \u001b[38;5;241m==\u001b[39m \u001b[38;5;124m\"\u001b[39m\u001b[38;5;124mbatch\u001b[39m\u001b[38;5;124m\"\u001b[39m \u001b[38;5;129;01mand\u001b[39;00m (idx \u001b[38;5;241m+\u001b[39m \u001b[38;5;241m1\u001b[39m) \u001b[38;5;241m%\u001b[39m \u001b[38;5;28mself\u001b[39m\u001b[38;5;241m.\u001b[39mbatch_size \u001b[38;5;241m==\u001b[39m \u001b[38;5;241m0\u001b[39m:\n\u001b[1;32m    253\u001b[0m     logger\u001b[38;5;241m.\u001b[39minfo(\u001b[38;5;124mf\u001b[39m\u001b[38;5;124m\"\u001b[39m\u001b[38;5;124mProcessed \u001b[39m\u001b[38;5;132;01m{\u001b[39;00midx\u001b[38;5;250m \u001b[39m\u001b[38;5;241m+\u001b[39m\u001b[38;5;250m \u001b[39m\u001b[38;5;241m1\u001b[39m\u001b[38;5;132;01m}\u001b[39;00m\u001b[38;5;124m/\u001b[39m\u001b[38;5;132;01m{\u001b[39;00mtotal_combinations\u001b[38;5;132;01m}\u001b[39;00m\u001b[38;5;124m combinations.\u001b[39m\u001b[38;5;124m\"\u001b[39m)\n",
      "File \u001b[0;32m~/.local/lib/python3.10/site-packages/qcml/bench/grid_search.py:210\u001b[0m, in \u001b[0;36mGridSearch._evaluate_combinations\u001b[0;34m(self, classifier, classifier_name, X_train, y_train, X_val, y_val)\u001b[0m\n\u001b[1;32m    207\u001b[0m     \u001b[38;5;28;01mcontinue\u001b[39;00m  \u001b[38;5;66;03m# Skip invalid combinations\u001b[39;00m\n\u001b[1;32m    209\u001b[0m \u001b[38;5;28;01mtry\u001b[39;00m:\n\u001b[0;32m--> 210\u001b[0m     evaluation_result \u001b[38;5;241m=\u001b[39m \u001b[38;5;28;43mself\u001b[39;49m\u001b[38;5;241;43m.\u001b[39;49m\u001b[43mevaluator\u001b[49m\u001b[38;5;241;43m.\u001b[39;49m\u001b[43mevaluate\u001b[49m\u001b[43m(\u001b[49m\n\u001b[1;32m    211\u001b[0m \u001b[43m        \u001b[49m\u001b[43mclassifier\u001b[49m\u001b[43m,\u001b[49m\n\u001b[1;32m    212\u001b[0m \u001b[43m        \u001b[49m\u001b[43mparams\u001b[49m\u001b[43m,\u001b[49m\n\u001b[1;32m    213\u001b[0m \u001b[43m        \u001b[49m\u001b[43mX_train\u001b[49m\u001b[43m,\u001b[49m\n\u001b[1;32m    214\u001b[0m \u001b[43m        \u001b[49m\u001b[43my_train\u001b[49m\u001b[43m,\u001b[49m\n\u001b[1;32m    215\u001b[0m \u001b[43m        \u001b[49m\u001b[43mX_val\u001b[49m\u001b[43m,\u001b[49m\n\u001b[1;32m    216\u001b[0m \u001b[43m        \u001b[49m\u001b[43my_val\u001b[49m\u001b[43m,\u001b[49m\n\u001b[1;32m    217\u001b[0m \u001b[43m        \u001b[49m\u001b[43mtrans_func\u001b[49m\u001b[43m,\u001b[49m\n\u001b[1;32m    218\u001b[0m \u001b[43m        \u001b[49m\u001b[43mtrans_params\u001b[49m\u001b[43m,\u001b[49m\n\u001b[1;32m    219\u001b[0m \u001b[43m    \u001b[49m\u001b[43m)\u001b[49m\n\u001b[1;32m    221\u001b[0m     \u001b[38;5;28mself\u001b[39m\u001b[38;5;241m.\u001b[39mresults\u001b[38;5;241m.\u001b[39mappend(\n\u001b[1;32m    222\u001b[0m         {\n\u001b[1;32m    223\u001b[0m             \u001b[38;5;124m\"\u001b[39m\u001b[38;5;124mexperiment_name\u001b[39m\u001b[38;5;124m\"\u001b[39m: \u001b[38;5;28mself\u001b[39m\u001b[38;5;241m.\u001b[39mexperiment_name,\n\u001b[0;32m   (...)\u001b[0m\n\u001b[1;32m    232\u001b[0m         }\n\u001b[1;32m    233\u001b[0m     )\n\u001b[1;32m    235\u001b[0m     \u001b[38;5;28;01mif\u001b[39;00m evaluation_result[\u001b[38;5;124m\"\u001b[39m\u001b[38;5;124maccuracy\u001b[39m\u001b[38;5;124m\"\u001b[39m] \u001b[38;5;241m>\u001b[39m best_score:\n",
      "File \u001b[0;32m~/.local/lib/python3.10/site-packages/qcml/bench/model_evaluator.py:47\u001b[0m, in \u001b[0;36mModelEvaluator.evaluate\u001b[0;34m(self, classifier, params, X_train, y_train, X_val, y_val, trans_func, trans_params)\u001b[0m\n\u001b[1;32m     45\u001b[0m \u001b[38;5;66;03m# Train and evaluate the model\u001b[39;00m\n\u001b[1;32m     46\u001b[0m model \u001b[38;5;241m=\u001b[39m classifier(\u001b[38;5;241m*\u001b[39m\u001b[38;5;241m*\u001b[39mparams)\n\u001b[0;32m---> 47\u001b[0m \u001b[43mmodel\u001b[49m\u001b[38;5;241;43m.\u001b[39;49m\u001b[43mfit\u001b[49m\u001b[43m(\u001b[49m\u001b[43mX_train\u001b[49m\u001b[43m,\u001b[49m\u001b[43m \u001b[49m\u001b[43my_train\u001b[49m\u001b[43m)\u001b[49m\n\u001b[1;32m     48\u001b[0m predictions \u001b[38;5;241m=\u001b[39m model\u001b[38;5;241m.\u001b[39mpredict(X_val)\n\u001b[1;32m     50\u001b[0m accuracy \u001b[38;5;241m=\u001b[39m accuracy_score(y_val, predictions)\n",
      "Cell \u001b[0;32mIn[3], line 218\u001b[0m, in \u001b[0;36mQuanvolutionalNet.fit\u001b[0;34m(self, X_train, y_train, train_loader, criterion, optimizer, epochs, batch_size)\u001b[0m\n\u001b[1;32m    214\u001b[0m     train_loader \u001b[38;5;241m=\u001b[39m DataLoader(dataset, batch_size\u001b[38;5;241m=\u001b[39m\u001b[38;5;28mself\u001b[39m\u001b[38;5;241m.\u001b[39mbatch_size, shuffle\u001b[38;5;241m=\u001b[39m\u001b[38;5;28;01mTrue\u001b[39;00m)\n\u001b[1;32m    217\u001b[0m \u001b[38;5;28;01mif\u001b[39;00m optimizer \u001b[38;5;129;01mis\u001b[39;00m \u001b[38;5;28;01mNone\u001b[39;00m:\n\u001b[0;32m--> 218\u001b[0m     optimizer \u001b[38;5;241m=\u001b[39m \u001b[43moptim\u001b[49m\u001b[38;5;241;43m.\u001b[39;49m\u001b[43mAdam\u001b[49m\u001b[43m(\u001b[49m\u001b[38;5;28;43mself\u001b[39;49m\u001b[38;5;241;43m.\u001b[39;49m\u001b[43mparameters\u001b[49m\u001b[43m(\u001b[49m\u001b[43m)\u001b[49m\u001b[43m,\u001b[49m\u001b[43m \u001b[49m\u001b[43mlr\u001b[49m\u001b[38;5;241;43m=\u001b[39;49m\u001b[38;5;28;43mself\u001b[39;49m\u001b[38;5;241;43m.\u001b[39;49m\u001b[43mlearning_rate\u001b[49m\u001b[43m)\u001b[49m\n\u001b[1;32m    220\u001b[0m \u001b[38;5;28mself\u001b[39m\u001b[38;5;241m.\u001b[39mtrain()\n\u001b[1;32m    221\u001b[0m \u001b[38;5;28mself\u001b[39m\u001b[38;5;241m.\u001b[39mto(\u001b[38;5;28mself\u001b[39m\u001b[38;5;241m.\u001b[39mdevice)\n",
      "File \u001b[0;32m~/.local/lib/python3.10/site-packages/torch/optim/adam.py:46\u001b[0m, in \u001b[0;36mAdam.__init__\u001b[0;34m(self, params, lr, betas, eps, weight_decay, amsgrad, foreach, maximize, capturable, differentiable, fused)\u001b[0m\n\u001b[1;32m     31\u001b[0m \u001b[38;5;28;01mdef\u001b[39;00m \u001b[38;5;21m__init__\u001b[39m(\n\u001b[1;32m     32\u001b[0m     \u001b[38;5;28mself\u001b[39m,\n\u001b[1;32m     33\u001b[0m     params: ParamsT,\n\u001b[0;32m   (...)\u001b[0m\n\u001b[1;32m     44\u001b[0m     fused: Optional[\u001b[38;5;28mbool\u001b[39m] \u001b[38;5;241m=\u001b[39m \u001b[38;5;28;01mNone\u001b[39;00m,\n\u001b[1;32m     45\u001b[0m ):\n\u001b[0;32m---> 46\u001b[0m     \u001b[38;5;28;01mif\u001b[39;00m \u001b[38;5;129;01mnot\u001b[39;00m \u001b[38;5;241;43m0.0\u001b[39;49m\u001b[43m \u001b[49m\u001b[38;5;241;43m<\u001b[39;49m\u001b[38;5;241;43m=\u001b[39;49m\u001b[43m \u001b[49m\u001b[43mlr\u001b[49m:\n\u001b[1;32m     47\u001b[0m         \u001b[38;5;28;01mraise\u001b[39;00m \u001b[38;5;167;01mValueError\u001b[39;00m(\u001b[38;5;124mf\u001b[39m\u001b[38;5;124m\"\u001b[39m\u001b[38;5;124mInvalid learning rate: \u001b[39m\u001b[38;5;132;01m{\u001b[39;00mlr\u001b[38;5;132;01m}\u001b[39;00m\u001b[38;5;124m\"\u001b[39m)\n\u001b[1;32m     48\u001b[0m     \u001b[38;5;28;01mif\u001b[39;00m \u001b[38;5;28misinstance\u001b[39m(lr, Tensor) \u001b[38;5;129;01mand\u001b[39;00m foreach \u001b[38;5;129;01mand\u001b[39;00m \u001b[38;5;129;01mnot\u001b[39;00m capturable:\n",
      "\u001b[0;31mTypeError\u001b[0m: '<=' not supported between instances of 'float' and 'NoneType'"
     ]
    }
   ],
   "source": [
    "model_grid_classical = {\n",
    "    \"classical_kernel_shape\": [2, 3, 5],\n",
    "    \"n_classes\": [10],\n",
    "    \"use_quantum\": [False],\n",
    "}\n",
    "\n",
    "gs = GridSearch(\n",
    "    classifiers=[QuanvolutionalNet],\n",
    "    param_grid=model_grid_classical,\n",
    "    #checkpoint_interval=1,\n",
    "    batch_size=50,\n",
    "    experiment_name=\"classical_mnist,\"\n",
    ").run(X_train=X_train, y_train=y_train, X_val=X_val, y_val=y_val)\n"
   ]
  }
 ],
 "metadata": {
  "kernelspec": {
   "display_name": "Python 3 (ipykernel)",
   "language": "python",
   "name": "python3"
  },
  "language_info": {
   "codemirror_mode": {
    "name": "ipython",
    "version": 3
   },
   "file_extension": ".py",
   "mimetype": "text/x-python",
   "name": "python",
   "nbconvert_exporter": "python",
   "pygments_lexer": "ipython3",
   "version": "3.10.5"
  }
 },
 "nbformat": 4,
 "nbformat_minor": 5
}
