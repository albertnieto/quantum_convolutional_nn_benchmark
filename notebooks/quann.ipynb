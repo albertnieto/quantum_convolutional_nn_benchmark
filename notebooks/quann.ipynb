{
 "cells": [
  {
   "cell_type": "markdown",
   "id": "f9024c94-21ed-48c3-87c5-75a81d668c8f",
   "metadata": {
    "editable": true,
    "slideshow": {
     "slide_type": ""
    },
    "tags": []
   },
   "source": [
    "# Aux"
   ]
  },
  {
   "cell_type": "code",
   "execution_count": 6,
   "id": "9ed7a2cf-a066-4f84-8761-f86daf56521d",
   "metadata": {},
   "outputs": [],
   "source": [
    "import torch\n",
    "import torch.optim as optim\n",
    "#%pip install torchvision\n",
    "from torchvision import datasets, transforms\n",
    "from torch.utils.data import DataLoader, Subset, TensorDataset\n",
    "import numpy as np\n",
    "\n",
    "#\n",
    "import torch\n",
    "import torch.nn as nn\n",
    "import torch.optim as optim\n",
    "\n",
    "#%pip install pennylane --user\n",
    "import pennylane as qml\n",
    "from pennylane import numpy as np\n",
    "\n",
    "import sys\n",
    "import os\n",
    "\n",
    "src_path = os.path.abspath(os.path.join('..', 'src'))\n",
    "if src_path not in sys.path:\n",
    "    sys.path.append(src_path)\n",
    "\n",
    "from circuits.convolution.default import default_circuit, full_entanglement_circuit\n",
    "from circuits.convolution.NQ_circuit import NQ_circuit\n",
    "from circuits.convolution.no_entanglement_circuit import no_entanglement_random_circuit\n",
    "from circuits.embedding.default import default_embedding, custom_embedding\n",
    "from circuits.embedding.IQP_embedding import custom_iqp_embedding\n",
    "from circuits.embedding.NQE_embedding import NQE_embedding\n",
    "from circuits.embedding.qml_embeddings import angle_embedding, amplitude_embedding, QAOA_embedding, displacement_embedding, squeezing_embedding\n",
    "from circuits.measurement.default import default_measurement, custom_measurement\n",
    "from layers.quanvolution import QuanvLayer\n",
    "from models.quanvolutional_net import QuanvolutionalNet\n",
    "from utils.data_loader import load_mnist_data\n",
    "\n",
    "device = torch.device(\"cuda\" if torch.cuda.is_available() else \"cpu\")\n"
   ]
  },
  {
   "cell_type": "markdown",
   "id": "731858bd-9631-4322-a6a6-47e62b86f948",
   "metadata": {},
   "source": [
    "# Train"
   ]
  },
  {
   "cell_type": "code",
   "execution_count": 17,
   "id": "dc594922-17fc-47db-9e46-ca1b6a0409c0",
   "metadata": {
    "scrolled": true
   },
   "outputs": [
    {
     "name": "stderr",
     "output_type": "stream",
     "text": [
      "2024-10-04 09:41:07,126 - root - \u001b[94mINFO\u001b[0m - Logging is set up. (log.py:391)\n",
      "2024-10-04 09:41:07,128 - root - \u001b[94mINFO\u001b[0m - jax logs are set to ERROR level. (log.py:421)\n",
      "2024-10-04 09:41:07,129 - root - \u001b[94mINFO\u001b[0m - pennylane logs are set to ERROR level. (log.py:421)\n",
      "2024-10-04 09:41:07,131 - root - \u001b[94mINFO\u001b[0m - bokeh logs are set to ERROR level. (log.py:421)\n",
      "2024-10-04 09:41:07,134 - root - \u001b[94mINFO\u001b[0m - distributed logs are set to ERROR level. (log.py:421)\n"
     ]
    },
    {
     "name": "stdout",
     "output_type": "stream",
     "text": [
      "Using device: cpu\n"
     ]
    }
   ],
   "source": [
    "#%pip install qcml\n",
    "#%pip install scikit-learn\n",
    "#%pip install dask\n",
    "#%pip install pynvml\n",
    "#%pip install pandas\n",
    "#%pip install matplotlib --user\n",
    "#%pip install seaborn\n",
    "#%pip install jax\n",
    "from qcml.bench.grid_search import GridSearch\n",
    "from qcml.utils.log import log_setup\n",
    "import os\n",
    "\n",
    "log_settings = {\n",
    "    \"output\": \"both\",\n",
    "    \"terminal_level\": \"INFO\",\n",
    "    \"file_level\": \"DEBUG\",\n",
    "    \"hide_logs\": [\"jax\", \"pennylane\", \"bokeh\", \"distributed\"],\n",
    "    \"slack_notify\": False\n",
    "}\n",
    "\n",
    "log_setup(**log_settings)\n",
    "\n",
    "X_train, y_train, X_val, y_val = load_mnist_data(batch_size=4, output='np', limit=500)\n",
    "\n",
    "os.environ[\"JAX_PLATFORM_NAME\"] = \"cpu\"\n",
    "os.environ[\"XLA_PYTHON_CLIENT_PREALLOCATE\"] = \"false\"\n",
    "\n",
    "device = torch.device(\"cuda\" if torch.cuda.is_available() else \"cpu\")\n",
    "print(f\"Using device: {device}\")\n",
    "torch.backends.cudnn.benchmark = True"
   ]
  },
  {
   "cell_type": "code",
   "execution_count": 18,
   "id": "710ebb4e-39d0-4813-9f13-4c008e8d7b45",
   "metadata": {},
   "outputs": [
    {
     "name": "stderr",
     "output_type": "stream",
     "text": [
      "2024-10-04 09:41:08,043 - qcml.bench.grid_search - \u001b[94mINFO\u001b[0m - Starting grid search with QuanvolutionalNet, 18 combinations, 12 parallel jobs (grid_search.py:165)\n"
     ]
    },
    {
     "name": "stdout",
     "output_type": "stream",
     "text": [
      "Epoch 1/10, Loss: 2.3016\n",
      "Epoch 2/10, Loss: 2.2843\n",
      "Epoch 3/10, Loss: 2.2478\n",
      "Epoch 4/10, Loss: 2.1576\n",
      "Epoch 5/10, Loss: 1.8805\n",
      "Epoch 6/10, Loss: 1.6833\n",
      "Epoch 7/10, Loss: 1.3598\n",
      "Epoch 8/10, Loss: 1.3279\n",
      "Epoch 9/10, Loss: 1.0481\n",
      "Epoch 10/10, Loss: 1.1444\n"
     ]
    },
    {
     "name": "stderr",
     "output_type": "stream",
     "text": [
      "2024-10-04 09:41:12,462 - qcml.bench.grid_search - \u001b[94mINFO\u001b[0m - Evaluated params: {'qkernel_shape': 2, 'classical_kernel_shape': 2, 'embedding': <function angle_embedding at 0x0000028693484A60>, 'circuit': <function no_entanglement_random_circuit at 0x0000028693484310>, 'measurement': <function custom_measurement at 0x0000028693484550>, 'params': {}, 'n_classes': 10, 'learning_rate': 0.008999999612569809}, accuracy: 0.5200 (grid_search.py:241)\n"
     ]
    },
    {
     "name": "stdout",
     "output_type": "stream",
     "text": [
      "Epoch 1/10, Loss: 2.3196\n",
      "Epoch 2/10, Loss: 2.2975\n",
      "Epoch 3/10, Loss: 2.2947\n",
      "Epoch 4/10, Loss: 2.2796\n",
      "Epoch 5/10, Loss: 2.0352\n",
      "Epoch 6/10, Loss: 1.7967\n",
      "Epoch 7/10, Loss: 1.3107\n",
      "Epoch 8/10, Loss: 1.2054\n",
      "Epoch 9/10, Loss: 1.2073\n",
      "Epoch 10/10, Loss: 1.1681\n"
     ]
    },
    {
     "name": "stderr",
     "output_type": "stream",
     "text": [
      "2024-10-04 09:41:16,597 - qcml.bench.grid_search - \u001b[94mINFO\u001b[0m - Evaluated params: {'qkernel_shape': 2, 'classical_kernel_shape': 2, 'embedding': <function angle_embedding at 0x0000028693484A60>, 'circuit': <function no_entanglement_random_circuit at 0x0000028693484310>, 'measurement': <function custom_measurement at 0x0000028693484550>, 'params': {}, 'n_classes': 10, 'learning_rate': 0.04450000077486038}, accuracy: 0.4900 (grid_search.py:241)\n"
     ]
    },
    {
     "name": "stdout",
     "output_type": "stream",
     "text": [
      "Epoch 1/10, Loss: 2.3226\n",
      "Epoch 2/10, Loss: 2.3118\n",
      "Epoch 3/10, Loss: 2.2940\n",
      "Epoch 4/10, Loss: 2.2852\n",
      "Epoch 5/10, Loss: 2.1088\n",
      "Epoch 6/10, Loss: 1.8805\n",
      "Epoch 7/10, Loss: 1.7952\n",
      "Epoch 8/10, Loss: 1.7430\n",
      "Epoch 9/10, Loss: 1.5796\n",
      "Epoch 10/10, Loss: 1.2567\n"
     ]
    },
    {
     "name": "stderr",
     "output_type": "stream",
     "text": [
      "2024-10-04 09:41:20,091 - qcml.bench.grid_search - \u001b[94mINFO\u001b[0m - Evaluated params: {'qkernel_shape': 2, 'classical_kernel_shape': 2, 'embedding': <function angle_embedding at 0x0000028693484A60>, 'circuit': <function no_entanglement_random_circuit at 0x0000028693484310>, 'measurement': <function custom_measurement at 0x0000028693484550>, 'params': {}, 'n_classes': 10, 'learning_rate': 0.07999999821186066}, accuracy: 0.3740 (grid_search.py:241)\n"
     ]
    },
    {
     "name": "stdout",
     "output_type": "stream",
     "text": [
      "Epoch 1/10, Loss: 2.2935\n",
      "Epoch 2/10, Loss: 2.2600\n",
      "Epoch 3/10, Loss: 2.1197\n",
      "Epoch 4/10, Loss: 1.9070\n",
      "Epoch 5/10, Loss: 1.3547\n",
      "Epoch 6/10, Loss: 1.5410\n",
      "Epoch 7/10, Loss: 1.4257\n",
      "Epoch 8/10, Loss: 1.0538\n",
      "Epoch 9/10, Loss: 1.0016\n",
      "Epoch 10/10, Loss: 0.8275\n"
     ]
    },
    {
     "name": "stderr",
     "output_type": "stream",
     "text": [
      "2024-10-04 09:41:23,664 - qcml.bench.grid_search - \u001b[94mINFO\u001b[0m - Evaluated params: {'qkernel_shape': 2, 'classical_kernel_shape': 3, 'embedding': <function angle_embedding at 0x0000028693484A60>, 'circuit': <function no_entanglement_random_circuit at 0x0000028693484310>, 'measurement': <function custom_measurement at 0x0000028693484550>, 'params': {}, 'n_classes': 10, 'learning_rate': 0.008999999612569809}, accuracy: 0.5660 (grid_search.py:241)\n"
     ]
    },
    {
     "name": "stdout",
     "output_type": "stream",
     "text": [
      "Epoch 1/10, Loss: 2.3092\n",
      "Epoch 2/10, Loss: 2.2835\n",
      "Epoch 3/10, Loss: 2.0772\n",
      "Epoch 4/10, Loss: 1.8301\n",
      "Epoch 5/10, Loss: 1.4700\n",
      "Epoch 6/10, Loss: 1.2889\n",
      "Epoch 7/10, Loss: 1.0828\n",
      "Epoch 8/10, Loss: 1.1145\n",
      "Epoch 9/10, Loss: 1.1730\n",
      "Epoch 10/10, Loss: 1.4005\n"
     ]
    },
    {
     "name": "stderr",
     "output_type": "stream",
     "text": [
      "2024-10-04 09:41:27,230 - qcml.bench.grid_search - \u001b[94mINFO\u001b[0m - Evaluated params: {'qkernel_shape': 2, 'classical_kernel_shape': 3, 'embedding': <function angle_embedding at 0x0000028693484A60>, 'circuit': <function no_entanglement_random_circuit at 0x0000028693484310>, 'measurement': <function custom_measurement at 0x0000028693484550>, 'params': {}, 'n_classes': 10, 'learning_rate': 0.04450000077486038}, accuracy: 0.5140 (grid_search.py:241)\n"
     ]
    },
    {
     "name": "stdout",
     "output_type": "stream",
     "text": [
      "Epoch 1/10, Loss: 2.3320\n",
      "Epoch 2/10, Loss: 2.2889\n",
      "Epoch 3/10, Loss: 2.1307\n",
      "Epoch 4/10, Loss: 1.9415\n",
      "Epoch 5/10, Loss: 1.7400\n",
      "Epoch 6/10, Loss: 1.8116\n",
      "Epoch 7/10, Loss: 1.5104\n",
      "Epoch 8/10, Loss: 1.5765\n",
      "Epoch 9/10, Loss: 1.5027\n",
      "Epoch 10/10, Loss: 1.5391\n"
     ]
    },
    {
     "name": "stderr",
     "output_type": "stream",
     "text": [
      "2024-10-04 09:41:30,776 - qcml.bench.grid_search - \u001b[94mINFO\u001b[0m - Evaluated params: {'qkernel_shape': 2, 'classical_kernel_shape': 3, 'embedding': <function angle_embedding at 0x0000028693484A60>, 'circuit': <function no_entanglement_random_circuit at 0x0000028693484310>, 'measurement': <function custom_measurement at 0x0000028693484550>, 'params': {}, 'n_classes': 10, 'learning_rate': 0.07999999821186066}, accuracy: 0.3560 (grid_search.py:241)\n"
     ]
    },
    {
     "name": "stdout",
     "output_type": "stream",
     "text": [
      "Epoch 1/10, Loss: 2.3007\n",
      "Epoch 2/10, Loss: 2.2659\n",
      "Epoch 3/10, Loss: 2.2306\n",
      "Epoch 4/10, Loss: 1.9512\n",
      "Epoch 5/10, Loss: 1.7154\n",
      "Epoch 6/10, Loss: 1.6282\n",
      "Epoch 7/10, Loss: 1.4608\n",
      "Epoch 8/10, Loss: 1.3070\n",
      "Epoch 9/10, Loss: 1.2645\n",
      "Epoch 10/10, Loss: 1.0795\n"
     ]
    },
    {
     "name": "stderr",
     "output_type": "stream",
     "text": [
      "2024-10-04 09:41:34,201 - qcml.bench.grid_search - \u001b[94mINFO\u001b[0m - Evaluated params: {'qkernel_shape': 2, 'classical_kernel_shape': 5, 'embedding': <function angle_embedding at 0x0000028693484A60>, 'circuit': <function no_entanglement_random_circuit at 0x0000028693484310>, 'measurement': <function custom_measurement at 0x0000028693484550>, 'params': {}, 'n_classes': 10, 'learning_rate': 0.008999999612569809}, accuracy: 0.5120 (grid_search.py:241)\n"
     ]
    },
    {
     "name": "stdout",
     "output_type": "stream",
     "text": [
      "Epoch 1/10, Loss: 2.3258\n",
      "Epoch 2/10, Loss: 2.3026\n",
      "Epoch 3/10, Loss: 2.3029\n",
      "Epoch 4/10, Loss: 2.3048\n",
      "Epoch 5/10, Loss: 2.3037\n",
      "Epoch 6/10, Loss: 2.3059\n",
      "Epoch 7/10, Loss: 2.3007\n",
      "Epoch 8/10, Loss: 2.2981\n",
      "Epoch 9/10, Loss: 2.3009\n",
      "Epoch 10/10, Loss: 2.3021\n"
     ]
    },
    {
     "name": "stderr",
     "output_type": "stream",
     "text": [
      "2024-10-04 09:41:37,565 - qcml.bench.grid_search - \u001b[94mINFO\u001b[0m - Evaluated params: {'qkernel_shape': 2, 'classical_kernel_shape': 5, 'embedding': <function angle_embedding at 0x0000028693484A60>, 'circuit': <function no_entanglement_random_circuit at 0x0000028693484310>, 'measurement': <function custom_measurement at 0x0000028693484550>, 'params': {}, 'n_classes': 10, 'learning_rate': 0.04450000077486038}, accuracy: 0.1340 (grid_search.py:241)\n"
     ]
    },
    {
     "name": "stdout",
     "output_type": "stream",
     "text": [
      "Epoch 1/10, Loss: 2.3496\n",
      "Epoch 2/10, Loss: 2.3101\n",
      "Epoch 3/10, Loss: 2.3226\n",
      "Epoch 4/10, Loss: 2.3280\n",
      "Epoch 5/10, Loss: 2.3175\n",
      "Epoch 6/10, Loss: 2.3118\n",
      "Epoch 7/10, Loss: 2.3132\n",
      "Epoch 8/10, Loss: 2.3058\n",
      "Epoch 9/10, Loss: 2.3090\n",
      "Epoch 10/10, Loss: 2.3168\n"
     ]
    },
    {
     "name": "stderr",
     "output_type": "stream",
     "text": [
      "2024-10-04 09:41:40,886 - qcml.bench.grid_search - \u001b[94mINFO\u001b[0m - Evaluated params: {'qkernel_shape': 2, 'classical_kernel_shape': 5, 'embedding': <function angle_embedding at 0x0000028693484A60>, 'circuit': <function no_entanglement_random_circuit at 0x0000028693484310>, 'measurement': <function custom_measurement at 0x0000028693484550>, 'params': {}, 'n_classes': 10, 'learning_rate': 0.07999999821186066}, accuracy: 0.1340 (grid_search.py:241)\n"
     ]
    },
    {
     "name": "stdout",
     "output_type": "stream",
     "text": [
      "Epoch 1/10, Loss: 2.2959\n",
      "Epoch 2/10, Loss: 2.2501\n",
      "Epoch 3/10, Loss: 2.0513\n",
      "Epoch 4/10, Loss: 1.6291\n",
      "Epoch 5/10, Loss: 1.2728\n",
      "Epoch 6/10, Loss: 1.0212\n",
      "Epoch 7/10, Loss: 0.9756\n",
      "Epoch 8/10, Loss: 0.8598\n",
      "Epoch 9/10, Loss: 0.9089\n",
      "Epoch 10/10, Loss: 0.8403\n"
     ]
    },
    {
     "name": "stderr",
     "output_type": "stream",
     "text": [
      "2024-10-04 09:42:01,252 - qcml.bench.grid_search - \u001b[94mINFO\u001b[0m - Evaluated params: {'qkernel_shape': 3, 'classical_kernel_shape': 2, 'embedding': <function angle_embedding at 0x0000028693484A60>, 'circuit': <function no_entanglement_random_circuit at 0x0000028693484310>, 'measurement': <function custom_measurement at 0x0000028693484550>, 'params': {}, 'n_classes': 10, 'learning_rate': 0.008999999612569809}, accuracy: 0.6640 (grid_search.py:241)\n"
     ]
    },
    {
     "name": "stdout",
     "output_type": "stream",
     "text": [
      "Epoch 1/10, Loss: 2.2979\n",
      "Epoch 2/10, Loss: 1.9690\n",
      "Epoch 3/10, Loss: 1.5110\n",
      "Epoch 4/10, Loss: 1.3798\n",
      "Epoch 5/10, Loss: 1.1668\n",
      "Epoch 6/10, Loss: 1.0089\n",
      "Epoch 7/10, Loss: 0.9379\n",
      "Epoch 8/10, Loss: 1.1111\n",
      "Epoch 9/10, Loss: 0.9625\n",
      "Epoch 10/10, Loss: 0.9929\n"
     ]
    },
    {
     "name": "stderr",
     "output_type": "stream",
     "text": [
      "2024-10-04 09:42:23,660 - qcml.bench.grid_search - \u001b[94mINFO\u001b[0m - Evaluated params: {'qkernel_shape': 3, 'classical_kernel_shape': 2, 'embedding': <function angle_embedding at 0x0000028693484A60>, 'circuit': <function no_entanglement_random_circuit at 0x0000028693484310>, 'measurement': <function custom_measurement at 0x0000028693484550>, 'params': {}, 'n_classes': 10, 'learning_rate': 0.04450000077486038}, accuracy: 0.5820 (grid_search.py:241)\n"
     ]
    },
    {
     "name": "stdout",
     "output_type": "stream",
     "text": [
      "Epoch 1/10, Loss: 2.3487\n",
      "Epoch 2/10, Loss: 2.1798\n",
      "Epoch 3/10, Loss: 2.0493\n",
      "Epoch 4/10, Loss: 1.9175\n",
      "Epoch 5/10, Loss: 1.6484\n",
      "Epoch 6/10, Loss: 1.5525\n",
      "Epoch 7/10, Loss: 1.4670\n",
      "Epoch 8/10, Loss: 1.5720\n",
      "Epoch 9/10, Loss: 1.2871\n",
      "Epoch 10/10, Loss: 1.1715\n"
     ]
    },
    {
     "name": "stderr",
     "output_type": "stream",
     "text": [
      "2024-10-04 09:42:47,168 - qcml.bench.grid_search - \u001b[94mINFO\u001b[0m - Evaluated params: {'qkernel_shape': 3, 'classical_kernel_shape': 2, 'embedding': <function angle_embedding at 0x0000028693484A60>, 'circuit': <function no_entanglement_random_circuit at 0x0000028693484310>, 'measurement': <function custom_measurement at 0x0000028693484550>, 'params': {}, 'n_classes': 10, 'learning_rate': 0.07999999821186066}, accuracy: 0.4820 (grid_search.py:241)\n"
     ]
    },
    {
     "name": "stdout",
     "output_type": "stream",
     "text": [
      "Epoch 1/10, Loss: 2.3009\n",
      "Epoch 2/10, Loss: 2.2350\n",
      "Epoch 3/10, Loss: 2.0085\n",
      "Epoch 4/10, Loss: 1.5424\n",
      "Epoch 5/10, Loss: 1.3014\n",
      "Epoch 6/10, Loss: 1.1380\n",
      "Epoch 7/10, Loss: 1.0249\n",
      "Epoch 8/10, Loss: 1.1147\n",
      "Epoch 9/10, Loss: 0.8015\n",
      "Epoch 10/10, Loss: 0.8114\n"
     ]
    },
    {
     "name": "stderr",
     "output_type": "stream",
     "text": [
      "2024-10-04 09:43:09,432 - qcml.bench.grid_search - \u001b[94mINFO\u001b[0m - Evaluated params: {'qkernel_shape': 3, 'classical_kernel_shape': 3, 'embedding': <function angle_embedding at 0x0000028693484A60>, 'circuit': <function no_entanglement_random_circuit at 0x0000028693484310>, 'measurement': <function custom_measurement at 0x0000028693484550>, 'params': {}, 'n_classes': 10, 'learning_rate': 0.008999999612569809}, accuracy: 0.6380 (grid_search.py:241)\n"
     ]
    },
    {
     "name": "stdout",
     "output_type": "stream",
     "text": [
      "Epoch 1/10, Loss: 2.2855\n",
      "Epoch 2/10, Loss: 1.8566\n",
      "Epoch 3/10, Loss: 1.8879\n",
      "Epoch 4/10, Loss: 1.5926\n",
      "Epoch 5/10, Loss: 1.2673\n",
      "Epoch 6/10, Loss: 1.0318\n",
      "Epoch 7/10, Loss: 1.1485\n",
      "Epoch 8/10, Loss: 1.1517\n",
      "Epoch 9/10, Loss: 1.2021\n",
      "Epoch 10/10, Loss: 1.0903\n"
     ]
    },
    {
     "name": "stderr",
     "output_type": "stream",
     "text": [
      "2024-10-04 09:43:32,915 - qcml.bench.grid_search - \u001b[94mINFO\u001b[0m - Evaluated params: {'qkernel_shape': 3, 'classical_kernel_shape': 3, 'embedding': <function angle_embedding at 0x0000028693484A60>, 'circuit': <function no_entanglement_random_circuit at 0x0000028693484310>, 'measurement': <function custom_measurement at 0x0000028693484550>, 'params': {}, 'n_classes': 10, 'learning_rate': 0.04450000077486038}, accuracy: 0.5200 (grid_search.py:241)\n"
     ]
    },
    {
     "name": "stdout",
     "output_type": "stream",
     "text": [
      "Epoch 1/10, Loss: 2.3368\n",
      "Epoch 2/10, Loss: 2.2305\n",
      "Epoch 3/10, Loss: 1.8443\n",
      "Epoch 4/10, Loss: 1.6102\n",
      "Epoch 5/10, Loss: 1.4397\n",
      "Epoch 6/10, Loss: 1.6480\n",
      "Epoch 7/10, Loss: 1.3369\n",
      "Epoch 8/10, Loss: 1.2930\n",
      "Epoch 9/10, Loss: 1.1998\n",
      "Epoch 10/10, Loss: 1.2545\n"
     ]
    },
    {
     "name": "stderr",
     "output_type": "stream",
     "text": [
      "2024-10-04 09:43:53,928 - qcml.bench.grid_search - \u001b[94mINFO\u001b[0m - Evaluated params: {'qkernel_shape': 3, 'classical_kernel_shape': 3, 'embedding': <function angle_embedding at 0x0000028693484A60>, 'circuit': <function no_entanglement_random_circuit at 0x0000028693484310>, 'measurement': <function custom_measurement at 0x0000028693484550>, 'params': {}, 'n_classes': 10, 'learning_rate': 0.07999999821186066}, accuracy: 0.5140 (grid_search.py:241)\n"
     ]
    },
    {
     "name": "stdout",
     "output_type": "stream",
     "text": [
      "Epoch 1/10, Loss: 2.3043\n",
      "Epoch 2/10, Loss: 2.2419\n",
      "Epoch 3/10, Loss: 1.8032\n",
      "Epoch 4/10, Loss: 1.5105\n",
      "Epoch 5/10, Loss: 1.1757\n",
      "Epoch 6/10, Loss: 1.2187\n",
      "Epoch 7/10, Loss: 1.0682\n",
      "Epoch 8/10, Loss: 0.9188\n",
      "Epoch 9/10, Loss: 0.8974\n",
      "Epoch 10/10, Loss: 0.8837\n"
     ]
    },
    {
     "name": "stderr",
     "output_type": "stream",
     "text": [
      "2024-10-04 09:44:15,239 - qcml.bench.grid_search - \u001b[94mINFO\u001b[0m - Evaluated params: {'qkernel_shape': 3, 'classical_kernel_shape': 5, 'embedding': <function angle_embedding at 0x0000028693484A60>, 'circuit': <function no_entanglement_random_circuit at 0x0000028693484310>, 'measurement': <function custom_measurement at 0x0000028693484550>, 'params': {}, 'n_classes': 10, 'learning_rate': 0.008999999612569809}, accuracy: 0.6660 (grid_search.py:241)\n"
     ]
    },
    {
     "name": "stdout",
     "output_type": "stream",
     "text": [
      "Epoch 1/10, Loss: 2.2795\n",
      "Epoch 2/10, Loss: 2.0713\n",
      "Epoch 3/10, Loss: 1.8989\n",
      "Epoch 4/10, Loss: 1.6495\n",
      "Epoch 5/10, Loss: 1.5256\n",
      "Epoch 6/10, Loss: 1.4637\n",
      "Epoch 7/10, Loss: 1.3663\n",
      "Epoch 8/10, Loss: 1.2743\n",
      "Epoch 9/10, Loss: 1.4231\n",
      "Epoch 10/10, Loss: 1.1248\n"
     ]
    },
    {
     "name": "stderr",
     "output_type": "stream",
     "text": [
      "2024-10-04 09:44:38,932 - qcml.bench.grid_search - \u001b[94mINFO\u001b[0m - Evaluated params: {'qkernel_shape': 3, 'classical_kernel_shape': 5, 'embedding': <function angle_embedding at 0x0000028693484A60>, 'circuit': <function no_entanglement_random_circuit at 0x0000028693484310>, 'measurement': <function custom_measurement at 0x0000028693484550>, 'params': {}, 'n_classes': 10, 'learning_rate': 0.04450000077486038}, accuracy: 0.4380 (grid_search.py:241)\n"
     ]
    },
    {
     "name": "stdout",
     "output_type": "stream",
     "text": [
      "Epoch 1/10, Loss: 2.2871\n",
      "Epoch 2/10, Loss: 2.0535\n",
      "Epoch 3/10, Loss: 2.1262\n",
      "Epoch 4/10, Loss: 2.1314\n",
      "Epoch 5/10, Loss: 1.8967\n",
      "Epoch 6/10, Loss: 1.9245\n",
      "Epoch 7/10, Loss: 2.4521\n",
      "Epoch 8/10, Loss: 2.0096\n",
      "Epoch 9/10, Loss: 1.6896\n",
      "Epoch 10/10, Loss: 1.5207\n"
     ]
    },
    {
     "name": "stderr",
     "output_type": "stream",
     "text": [
      "2024-10-04 09:45:00,571 - qcml.bench.grid_search - \u001b[94mINFO\u001b[0m - Evaluated params: {'qkernel_shape': 3, 'classical_kernel_shape': 5, 'embedding': <function angle_embedding at 0x0000028693484A60>, 'circuit': <function no_entanglement_random_circuit at 0x0000028693484310>, 'measurement': <function custom_measurement at 0x0000028693484550>, 'params': {}, 'n_classes': 10, 'learning_rate': 0.07999999821186066}, accuracy: 0.3660 (grid_search.py:241)\n",
      "2024-10-04 09:45:00,576 - qcml.utils.storage - \u001b[94mINFO\u001b[0m - Results saved to results/grid_search/QuanvolutionalNet-quantum_mnist_angle,_best-hypa.csv, file size: 7907 bytes (storage.py:48)\n"
     ]
    }
   ],
   "source": [
    "import itertools\n",
    "\n",
    "embedding_type = \"angle\"\n",
    "\n",
    "qkernel_shape = [2, 3]\n",
    "classical_kernel_shape = [2, 3, 5]\n",
    "\n",
    "if embedding_type == \"angle\":\n",
    "\n",
    "    # Angle embedding\n",
    "\n",
    "    embedding = angle_embedding\n",
    "    circuit = no_entanglement_random_circuit\n",
    "    params = {}\n",
    "\n",
    "    lrs = torch.linspace(0.009, 0.08, 3, requires_grad=False)\n",
    "    learning_rates = [lr.item() for lr in lrs] \n",
    "    \n",
    "\n",
    "elif embedding_type == \"amplitude\":\n",
    "\n",
    "    # Amplitude embedding\n",
    "\n",
    "    embedding = amplitude_embedding\n",
    "    circuit = no_entanglement_random_circuit\n",
    "    params = {}\n",
    "\n",
    "    lrs = torch.linspace(0.008, 0.03, 3, requires_grad=False)\n",
    "    learning_rates = [lr.item() for lr in lrs]\n",
    "    \n",
    "\n",
    "elif embedding_type == \"IQP\":\n",
    "\n",
    "    # IQP embedding\n",
    "\n",
    "    embedding = custom_iqp_embedding\n",
    "    circuit = NQ_circuit\n",
    "    params = {\"embedding\": {\"n_repeats\": 2}}\n",
    "\n",
    "    lrs = torch.linspace(0.008, 0.05, 3, requires_grad=False)\n",
    "    learning_rates = [lr.item() for lr in lrs]\n",
    "\n",
    "elif embedding_type == \"NQE\":\n",
    "\n",
    "    # NQE embedding\n",
    "\n",
    "    embedding = NQE_embedding\n",
    "    circuit = no_entanglement_random_circuit\n",
    "    params = {\"embedding\": {\"n_repeats\": 2}}\n",
    "\n",
    "    lrs = torch.linspace(0.008, 0.05, 3, requires_grad=False)\n",
    "    learning_rates = [lr.item() for lr in lrs]\n",
    "\n",
    "elif embedding_type == \"displacement\":\n",
    "\n",
    "    # Displacement embedding\n",
    "\n",
    "    embedding = angle_embedding\n",
    "    circuit = no_entanglement_random_circuit\n",
    "    params = {}\n",
    "\n",
    "    lrs = torch.linspace(0.009, 0.08, 3, requires_grad=False)\n",
    "    learning_rates = [lr.item() for lr in lrs]\n",
    "\n",
    "elif embedding_type == \"squeezing\":\n",
    "\n",
    "    # Squeezing embedding\n",
    "\n",
    "    embedding = angle_embedding\n",
    "    circuit = no_entanglement_random_circuit\n",
    "    params = {}\n",
    "\n",
    "    lrs = torch.linspace(0.009, 0.08, 3, requires_grad=False)\n",
    "    learning_rates = [lr.item() for lr in lrs]\n",
    "\n",
    "elif embedding_type == \"QAOA\":\n",
    "\n",
    "    # Squeezing embedding\n",
    "\n",
    "    embedding = QAOA_embedding\n",
    "    circuit = NQ_circuit\n",
    "    params = {\"embedding\": {\"qkernel_shape\": 3}}\n",
    "\n",
    "    lrs = torch.linspace(0.009, 0.03, 3, requires_grad=False)\n",
    "    learning_rates = [lr.item() for lr in lrs]\n",
    "\n",
    "model_grid = {\n",
    "        \"qkernel_shape\": qkernel_shape,\n",
    "        \"classical_kernel_shape\": classical_kernel_shape,\n",
    "        \"embedding\":[embedding],\n",
    "        \"circuit\":[circuit],\n",
    "        \"measurement\":[custom_measurement],\n",
    "        \"params\":[params],\n",
    "        \"n_classes\":[10],\n",
    "        \"learning_rate\": learning_rates\n",
    "    }\n",
    "\n",
    "experiment_name = \"quantum_mnist_\" + embedding_type + \",\"\n",
    "\n",
    "gs = GridSearch(\n",
    "    classifiers=[QuanvolutionalNet],\n",
    "    param_grid=model_grid,\n",
    "    #combinations=combinations,\n",
    "    batch_size=50,\n",
    "    experiment_name=experiment_name\n",
    ").run(X_train=X_train, y_train=y_train, X_val=X_val, y_val=y_val)"
   ]
  },
  {
   "cell_type": "code",
   "execution_count": 7,
   "id": "c321c41c-1f07-4b23-ae1f-61841772586b",
   "metadata": {},
   "outputs": [
    {
     "name": "stderr",
     "output_type": "stream",
     "text": [
      "2024-09-30 09:15:21,877 - qcml.bench.grid_search - \u001b[94mINFO\u001b[0m - Starting grid search with QuanvolutionalNet, 3 combinations, 50 parallel jobs (grid_search.py:165)\n",
      "2024-09-30 09:15:21,880 - qcml.bench.grid_search - \u001b[91mERROR\u001b[0m - Error with parameters {'classical_kernel_shape': 2, 'n_classes': 10, 'use_quantum': False}: '<=' not supported between instances of 'float' and 'NoneType' (grid_search.py:246)\n"
     ]
    },
    {
     "ename": "TypeError",
     "evalue": "'<=' not supported between instances of 'float' and 'NoneType'",
     "output_type": "error",
     "traceback": [
      "\u001b[0;31m---------------------------------------------------------------------------\u001b[0m",
      "\u001b[0;31mTypeError\u001b[0m                                 Traceback (most recent call last)",
      "Cell \u001b[0;32mIn[7], line 7\u001b[0m\n\u001b[1;32m      1\u001b[0m model_grid_classical \u001b[38;5;241m=\u001b[39m {\n\u001b[1;32m      2\u001b[0m     \u001b[38;5;124m\"\u001b[39m\u001b[38;5;124mclassical_kernel_shape\u001b[39m\u001b[38;5;124m\"\u001b[39m: [\u001b[38;5;241m2\u001b[39m, \u001b[38;5;241m3\u001b[39m, \u001b[38;5;241m5\u001b[39m],\n\u001b[1;32m      3\u001b[0m     \u001b[38;5;124m\"\u001b[39m\u001b[38;5;124mn_classes\u001b[39m\u001b[38;5;124m\"\u001b[39m: [\u001b[38;5;241m10\u001b[39m],\n\u001b[1;32m      4\u001b[0m     \u001b[38;5;124m\"\u001b[39m\u001b[38;5;124muse_quantum\u001b[39m\u001b[38;5;124m\"\u001b[39m: [\u001b[38;5;28;01mFalse\u001b[39;00m],\n\u001b[1;32m      5\u001b[0m }\n\u001b[0;32m----> 7\u001b[0m gs \u001b[38;5;241m=\u001b[39m \u001b[43mGridSearch\u001b[49m\u001b[43m(\u001b[49m\n\u001b[1;32m      8\u001b[0m \u001b[43m    \u001b[49m\u001b[43mclassifiers\u001b[49m\u001b[38;5;241;43m=\u001b[39;49m\u001b[43m[\u001b[49m\u001b[43mQuanvolutionalNet\u001b[49m\u001b[43m]\u001b[49m\u001b[43m,\u001b[49m\n\u001b[1;32m      9\u001b[0m \u001b[43m    \u001b[49m\u001b[43mparam_grid\u001b[49m\u001b[38;5;241;43m=\u001b[39;49m\u001b[43mmodel_grid_classical\u001b[49m\u001b[43m,\u001b[49m\n\u001b[1;32m     10\u001b[0m \u001b[43m    \u001b[49m\u001b[38;5;66;43;03m#checkpoint_interval=1,\u001b[39;49;00m\n\u001b[1;32m     11\u001b[0m \u001b[43m    \u001b[49m\u001b[43mbatch_size\u001b[49m\u001b[38;5;241;43m=\u001b[39;49m\u001b[38;5;241;43m50\u001b[39;49m\u001b[43m,\u001b[49m\n\u001b[1;32m     12\u001b[0m \u001b[43m    \u001b[49m\u001b[43mexperiment_name\u001b[49m\u001b[38;5;241;43m=\u001b[39;49m\u001b[38;5;124;43m\"\u001b[39;49m\u001b[38;5;124;43mclassical_mnist,\u001b[39;49m\u001b[38;5;124;43m\"\u001b[39;49m\n\u001b[1;32m     13\u001b[0m \u001b[43m)\u001b[49m\u001b[38;5;241;43m.\u001b[39;49m\u001b[43mrun\u001b[49m\u001b[43m(\u001b[49m\u001b[43mX_train\u001b[49m\u001b[38;5;241;43m=\u001b[39;49m\u001b[43mX_train\u001b[49m\u001b[43m,\u001b[49m\u001b[43m \u001b[49m\u001b[43my_train\u001b[49m\u001b[38;5;241;43m=\u001b[39;49m\u001b[43my_train\u001b[49m\u001b[43m,\u001b[49m\u001b[43m \u001b[49m\u001b[43mX_val\u001b[49m\u001b[38;5;241;43m=\u001b[39;49m\u001b[43mX_val\u001b[49m\u001b[43m,\u001b[49m\u001b[43m \u001b[49m\u001b[43my_val\u001b[49m\u001b[38;5;241;43m=\u001b[39;49m\u001b[43my_val\u001b[49m\u001b[43m)\u001b[49m\n",
      "File \u001b[0;32m~/.local/lib/python3.10/site-packages/qcml/bench/grid_search.py:106\u001b[0m, in \u001b[0;36mGridSearch.run\u001b[0;34m(self, datasets, X, y, X_train, y_train, X_val, y_val, return_best)\u001b[0m\n\u001b[1;32m    104\u001b[0m \u001b[38;5;28;01melse\u001b[39;00m:\n\u001b[1;32m    105\u001b[0m     \u001b[38;5;28;01mfor\u001b[39;00m \u001b[38;5;28mcls\u001b[39m \u001b[38;5;129;01min\u001b[39;00m \u001b[38;5;28mself\u001b[39m\u001b[38;5;241m.\u001b[39mclassifiers:\n\u001b[0;32m--> 106\u001b[0m         result \u001b[38;5;241m=\u001b[39m \u001b[38;5;28;43mself\u001b[39;49m\u001b[38;5;241;43m.\u001b[39;49m\u001b[43m_process_dataset\u001b[49m\u001b[43m(\u001b[49m\n\u001b[1;32m    107\u001b[0m \u001b[43m            \u001b[49m\u001b[38;5;28;43mcls\u001b[39;49m\u001b[43m,\u001b[49m\u001b[43m \u001b[49m\u001b[38;5;28;43;01mNone\u001b[39;49;00m\u001b[43m,\u001b[49m\u001b[43m \u001b[49m\u001b[43mX_train\u001b[49m\u001b[43m,\u001b[49m\u001b[43m \u001b[49m\u001b[43my_train\u001b[49m\u001b[43m,\u001b[49m\u001b[43m \u001b[49m\u001b[43mX_val\u001b[49m\u001b[43m,\u001b[49m\u001b[43m \u001b[49m\u001b[43my_val\u001b[49m\u001b[43m,\u001b[49m\u001b[43m \u001b[49m\u001b[43mreturn_best\u001b[49m\u001b[43m,\u001b[49m\u001b[43m \u001b[49m\u001b[43mX\u001b[49m\u001b[43m,\u001b[49m\u001b[43m \u001b[49m\u001b[43my\u001b[49m\n\u001b[1;32m    108\u001b[0m \u001b[43m        \u001b[49m\u001b[43m)\u001b[49m\n\u001b[1;32m    109\u001b[0m         all_results\u001b[38;5;241m.\u001b[39mappend(result)\n\u001b[1;32m    111\u001b[0m \u001b[38;5;28;01mreturn\u001b[39;00m \u001b[38;5;28mself\u001b[39m\u001b[38;5;241m.\u001b[39m_select_best_model() \u001b[38;5;28;01mif\u001b[39;00m return_best \u001b[38;5;28;01melse\u001b[39;00m all_results\n",
      "File \u001b[0;32m~/.local/lib/python3.10/site-packages/qcml/bench/grid_search.py:169\u001b[0m, in \u001b[0;36mGridSearch._process_dataset\u001b[0;34m(self, cls, dataset, X_train, y_train, X_val, y_val, return_best, X, y)\u001b[0m\n\u001b[1;32m    164\u001b[0m classifier_name \u001b[38;5;241m=\u001b[39m \u001b[38;5;28mgetattr\u001b[39m(\u001b[38;5;28mcls\u001b[39m, \u001b[38;5;124m\"\u001b[39m\u001b[38;5;124m__name__\u001b[39m\u001b[38;5;124m\"\u001b[39m, \u001b[38;5;28mcls\u001b[39m\u001b[38;5;241m.\u001b[39m\u001b[38;5;18m__class__\u001b[39m\u001b[38;5;241m.\u001b[39m\u001b[38;5;18m__name__\u001b[39m)\n\u001b[1;32m    165\u001b[0m logger\u001b[38;5;241m.\u001b[39minfo(\n\u001b[1;32m    166\u001b[0m     \u001b[38;5;124mf\u001b[39m\u001b[38;5;124m\"\u001b[39m\u001b[38;5;124mStarting grid search with \u001b[39m\u001b[38;5;132;01m{\u001b[39;00mclassifier_name\u001b[38;5;132;01m}\u001b[39;00m\u001b[38;5;124m, \u001b[39m\u001b[38;5;132;01m{\u001b[39;00m\u001b[38;5;28mlen\u001b[39m(\u001b[38;5;28mself\u001b[39m\u001b[38;5;241m.\u001b[39mcombinations)\u001b[38;5;132;01m}\u001b[39;00m\u001b[38;5;124m combinations, \u001b[39m\u001b[38;5;132;01m{\u001b[39;00m\u001b[38;5;28mself\u001b[39m\u001b[38;5;241m.\u001b[39mn_jobs\u001b[38;5;132;01m}\u001b[39;00m\u001b[38;5;124m parallel jobs\u001b[39m\u001b[38;5;124m\"\u001b[39m\n\u001b[1;32m    167\u001b[0m )\n\u001b[0;32m--> 169\u001b[0m best_score, best_params, best_model \u001b[38;5;241m=\u001b[39m \u001b[38;5;28;43mself\u001b[39;49m\u001b[38;5;241;43m.\u001b[39;49m\u001b[43m_evaluate_combinations\u001b[49m\u001b[43m(\u001b[49m\n\u001b[1;32m    170\u001b[0m \u001b[43m    \u001b[49m\u001b[38;5;28;43mcls\u001b[39;49m\u001b[43m,\u001b[49m\u001b[43m \u001b[49m\u001b[43mclassifier_name\u001b[49m\u001b[43m,\u001b[49m\u001b[43m \u001b[49m\u001b[43mX_train\u001b[49m\u001b[43m,\u001b[49m\u001b[43m \u001b[49m\u001b[43my_train\u001b[49m\u001b[43m,\u001b[49m\u001b[43m \u001b[49m\u001b[43mX_val\u001b[49m\u001b[43m,\u001b[49m\u001b[43m \u001b[49m\u001b[43my_val\u001b[49m\n\u001b[1;32m    171\u001b[0m \u001b[43m\u001b[49m\u001b[43m)\u001b[49m\n\u001b[1;32m    173\u001b[0m \u001b[38;5;66;03m# Save results to CSV\u001b[39;00m\n\u001b[1;32m    174\u001b[0m save_results_to_csv(\n\u001b[1;32m    175\u001b[0m     \u001b[38;5;28mself\u001b[39m\u001b[38;5;241m.\u001b[39mresults,\n\u001b[1;32m    176\u001b[0m     classifier_name,\n\u001b[1;32m    177\u001b[0m     \u001b[38;5;28mself\u001b[39m\u001b[38;5;241m.\u001b[39mexperiment_name,\n\u001b[1;32m    178\u001b[0m     \u001b[38;5;28mself\u001b[39m\u001b[38;5;241m.\u001b[39mresults_path,\n\u001b[1;32m    179\u001b[0m )\n",
      "File \u001b[0;32m~/.local/lib/python3.10/site-packages/qcml/bench/grid_search.py:250\u001b[0m, in \u001b[0;36mGridSearch._evaluate_combinations\u001b[0;34m(self, classifier, classifier_name, X_train, y_train, X_val, y_val)\u001b[0m\n\u001b[1;32m    248\u001b[0m         logger\u001b[38;5;241m.\u001b[39merror(traceback\u001b[38;5;241m.\u001b[39mformat_exc())\n\u001b[1;32m    249\u001b[0m     \u001b[38;5;28;01mif\u001b[39;00m \u001b[38;5;28mself\u001b[39m\u001b[38;5;241m.\u001b[39merror_stop:\n\u001b[0;32m--> 250\u001b[0m         \u001b[38;5;28;01mraise\u001b[39;00m e\n\u001b[1;32m    252\u001b[0m \u001b[38;5;28;01mif\u001b[39;00m \u001b[38;5;28mself\u001b[39m\u001b[38;5;241m.\u001b[39mlog_level \u001b[38;5;241m==\u001b[39m \u001b[38;5;124m\"\u001b[39m\u001b[38;5;124mbatch\u001b[39m\u001b[38;5;124m\"\u001b[39m \u001b[38;5;129;01mand\u001b[39;00m (idx \u001b[38;5;241m+\u001b[39m \u001b[38;5;241m1\u001b[39m) \u001b[38;5;241m%\u001b[39m \u001b[38;5;28mself\u001b[39m\u001b[38;5;241m.\u001b[39mbatch_size \u001b[38;5;241m==\u001b[39m \u001b[38;5;241m0\u001b[39m:\n\u001b[1;32m    253\u001b[0m     logger\u001b[38;5;241m.\u001b[39minfo(\u001b[38;5;124mf\u001b[39m\u001b[38;5;124m\"\u001b[39m\u001b[38;5;124mProcessed \u001b[39m\u001b[38;5;132;01m{\u001b[39;00midx\u001b[38;5;250m \u001b[39m\u001b[38;5;241m+\u001b[39m\u001b[38;5;250m \u001b[39m\u001b[38;5;241m1\u001b[39m\u001b[38;5;132;01m}\u001b[39;00m\u001b[38;5;124m/\u001b[39m\u001b[38;5;132;01m{\u001b[39;00mtotal_combinations\u001b[38;5;132;01m}\u001b[39;00m\u001b[38;5;124m combinations.\u001b[39m\u001b[38;5;124m\"\u001b[39m)\n",
      "File \u001b[0;32m~/.local/lib/python3.10/site-packages/qcml/bench/grid_search.py:210\u001b[0m, in \u001b[0;36mGridSearch._evaluate_combinations\u001b[0;34m(self, classifier, classifier_name, X_train, y_train, X_val, y_val)\u001b[0m\n\u001b[1;32m    207\u001b[0m     \u001b[38;5;28;01mcontinue\u001b[39;00m  \u001b[38;5;66;03m# Skip invalid combinations\u001b[39;00m\n\u001b[1;32m    209\u001b[0m \u001b[38;5;28;01mtry\u001b[39;00m:\n\u001b[0;32m--> 210\u001b[0m     evaluation_result \u001b[38;5;241m=\u001b[39m \u001b[38;5;28;43mself\u001b[39;49m\u001b[38;5;241;43m.\u001b[39;49m\u001b[43mevaluator\u001b[49m\u001b[38;5;241;43m.\u001b[39;49m\u001b[43mevaluate\u001b[49m\u001b[43m(\u001b[49m\n\u001b[1;32m    211\u001b[0m \u001b[43m        \u001b[49m\u001b[43mclassifier\u001b[49m\u001b[43m,\u001b[49m\n\u001b[1;32m    212\u001b[0m \u001b[43m        \u001b[49m\u001b[43mparams\u001b[49m\u001b[43m,\u001b[49m\n\u001b[1;32m    213\u001b[0m \u001b[43m        \u001b[49m\u001b[43mX_train\u001b[49m\u001b[43m,\u001b[49m\n\u001b[1;32m    214\u001b[0m \u001b[43m        \u001b[49m\u001b[43my_train\u001b[49m\u001b[43m,\u001b[49m\n\u001b[1;32m    215\u001b[0m \u001b[43m        \u001b[49m\u001b[43mX_val\u001b[49m\u001b[43m,\u001b[49m\n\u001b[1;32m    216\u001b[0m \u001b[43m        \u001b[49m\u001b[43my_val\u001b[49m\u001b[43m,\u001b[49m\n\u001b[1;32m    217\u001b[0m \u001b[43m        \u001b[49m\u001b[43mtrans_func\u001b[49m\u001b[43m,\u001b[49m\n\u001b[1;32m    218\u001b[0m \u001b[43m        \u001b[49m\u001b[43mtrans_params\u001b[49m\u001b[43m,\u001b[49m\n\u001b[1;32m    219\u001b[0m \u001b[43m    \u001b[49m\u001b[43m)\u001b[49m\n\u001b[1;32m    221\u001b[0m     \u001b[38;5;28mself\u001b[39m\u001b[38;5;241m.\u001b[39mresults\u001b[38;5;241m.\u001b[39mappend(\n\u001b[1;32m    222\u001b[0m         {\n\u001b[1;32m    223\u001b[0m             \u001b[38;5;124m\"\u001b[39m\u001b[38;5;124mexperiment_name\u001b[39m\u001b[38;5;124m\"\u001b[39m: \u001b[38;5;28mself\u001b[39m\u001b[38;5;241m.\u001b[39mexperiment_name,\n\u001b[0;32m   (...)\u001b[0m\n\u001b[1;32m    232\u001b[0m         }\n\u001b[1;32m    233\u001b[0m     )\n\u001b[1;32m    235\u001b[0m     \u001b[38;5;28;01mif\u001b[39;00m evaluation_result[\u001b[38;5;124m\"\u001b[39m\u001b[38;5;124maccuracy\u001b[39m\u001b[38;5;124m\"\u001b[39m] \u001b[38;5;241m>\u001b[39m best_score:\n",
      "File \u001b[0;32m~/.local/lib/python3.10/site-packages/qcml/bench/model_evaluator.py:47\u001b[0m, in \u001b[0;36mModelEvaluator.evaluate\u001b[0;34m(self, classifier, params, X_train, y_train, X_val, y_val, trans_func, trans_params)\u001b[0m\n\u001b[1;32m     45\u001b[0m \u001b[38;5;66;03m# Train and evaluate the model\u001b[39;00m\n\u001b[1;32m     46\u001b[0m model \u001b[38;5;241m=\u001b[39m classifier(\u001b[38;5;241m*\u001b[39m\u001b[38;5;241m*\u001b[39mparams)\n\u001b[0;32m---> 47\u001b[0m \u001b[43mmodel\u001b[49m\u001b[38;5;241;43m.\u001b[39;49m\u001b[43mfit\u001b[49m\u001b[43m(\u001b[49m\u001b[43mX_train\u001b[49m\u001b[43m,\u001b[49m\u001b[43m \u001b[49m\u001b[43my_train\u001b[49m\u001b[43m)\u001b[49m\n\u001b[1;32m     48\u001b[0m predictions \u001b[38;5;241m=\u001b[39m model\u001b[38;5;241m.\u001b[39mpredict(X_val)\n\u001b[1;32m     50\u001b[0m accuracy \u001b[38;5;241m=\u001b[39m accuracy_score(y_val, predictions)\n",
      "Cell \u001b[0;32mIn[3], line 218\u001b[0m, in \u001b[0;36mQuanvolutionalNet.fit\u001b[0;34m(self, X_train, y_train, train_loader, criterion, optimizer, epochs, batch_size)\u001b[0m\n\u001b[1;32m    214\u001b[0m     train_loader \u001b[38;5;241m=\u001b[39m DataLoader(dataset, batch_size\u001b[38;5;241m=\u001b[39m\u001b[38;5;28mself\u001b[39m\u001b[38;5;241m.\u001b[39mbatch_size, shuffle\u001b[38;5;241m=\u001b[39m\u001b[38;5;28;01mTrue\u001b[39;00m)\n\u001b[1;32m    217\u001b[0m \u001b[38;5;28;01mif\u001b[39;00m optimizer \u001b[38;5;129;01mis\u001b[39;00m \u001b[38;5;28;01mNone\u001b[39;00m:\n\u001b[0;32m--> 218\u001b[0m     optimizer \u001b[38;5;241m=\u001b[39m \u001b[43moptim\u001b[49m\u001b[38;5;241;43m.\u001b[39;49m\u001b[43mAdam\u001b[49m\u001b[43m(\u001b[49m\u001b[38;5;28;43mself\u001b[39;49m\u001b[38;5;241;43m.\u001b[39;49m\u001b[43mparameters\u001b[49m\u001b[43m(\u001b[49m\u001b[43m)\u001b[49m\u001b[43m,\u001b[49m\u001b[43m \u001b[49m\u001b[43mlr\u001b[49m\u001b[38;5;241;43m=\u001b[39;49m\u001b[38;5;28;43mself\u001b[39;49m\u001b[38;5;241;43m.\u001b[39;49m\u001b[43mlearning_rate\u001b[49m\u001b[43m)\u001b[49m\n\u001b[1;32m    220\u001b[0m \u001b[38;5;28mself\u001b[39m\u001b[38;5;241m.\u001b[39mtrain()\n\u001b[1;32m    221\u001b[0m \u001b[38;5;28mself\u001b[39m\u001b[38;5;241m.\u001b[39mto(\u001b[38;5;28mself\u001b[39m\u001b[38;5;241m.\u001b[39mdevice)\n",
      "File \u001b[0;32m~/.local/lib/python3.10/site-packages/torch/optim/adam.py:46\u001b[0m, in \u001b[0;36mAdam.__init__\u001b[0;34m(self, params, lr, betas, eps, weight_decay, amsgrad, foreach, maximize, capturable, differentiable, fused)\u001b[0m\n\u001b[1;32m     31\u001b[0m \u001b[38;5;28;01mdef\u001b[39;00m \u001b[38;5;21m__init__\u001b[39m(\n\u001b[1;32m     32\u001b[0m     \u001b[38;5;28mself\u001b[39m,\n\u001b[1;32m     33\u001b[0m     params: ParamsT,\n\u001b[0;32m   (...)\u001b[0m\n\u001b[1;32m     44\u001b[0m     fused: Optional[\u001b[38;5;28mbool\u001b[39m] \u001b[38;5;241m=\u001b[39m \u001b[38;5;28;01mNone\u001b[39;00m,\n\u001b[1;32m     45\u001b[0m ):\n\u001b[0;32m---> 46\u001b[0m     \u001b[38;5;28;01mif\u001b[39;00m \u001b[38;5;129;01mnot\u001b[39;00m \u001b[38;5;241;43m0.0\u001b[39;49m\u001b[43m \u001b[49m\u001b[38;5;241;43m<\u001b[39;49m\u001b[38;5;241;43m=\u001b[39;49m\u001b[43m \u001b[49m\u001b[43mlr\u001b[49m:\n\u001b[1;32m     47\u001b[0m         \u001b[38;5;28;01mraise\u001b[39;00m \u001b[38;5;167;01mValueError\u001b[39;00m(\u001b[38;5;124mf\u001b[39m\u001b[38;5;124m\"\u001b[39m\u001b[38;5;124mInvalid learning rate: \u001b[39m\u001b[38;5;132;01m{\u001b[39;00mlr\u001b[38;5;132;01m}\u001b[39;00m\u001b[38;5;124m\"\u001b[39m)\n\u001b[1;32m     48\u001b[0m     \u001b[38;5;28;01mif\u001b[39;00m \u001b[38;5;28misinstance\u001b[39m(lr, Tensor) \u001b[38;5;129;01mand\u001b[39;00m foreach \u001b[38;5;129;01mand\u001b[39;00m \u001b[38;5;129;01mnot\u001b[39;00m capturable:\n",
      "\u001b[0;31mTypeError\u001b[0m: '<=' not supported between instances of 'float' and 'NoneType'"
     ]
    }
   ],
   "source": [
    "model_grid_classical = {\n",
    "    \"classical_kernel_shape\": [2, 3, 5],\n",
    "    \"n_classes\": [10],\n",
    "    \"use_quantum\": [False],\n",
    "}\n",
    "\n",
    "gs = GridSearch(\n",
    "    classifiers=[QuanvolutionalNet],\n",
    "    param_grid=model_grid_classical,\n",
    "    #checkpoint_interval=1,\n",
    "    batch_size=50,\n",
    "    experiment_name=\"classical_mnist,\"\n",
    ").run(X_train=X_train, y_train=y_train, X_val=X_val, y_val=y_val)\n"
   ]
  }
 ],
 "metadata": {
  "kernelspec": {
   "display_name": "Python 3",
   "language": "python",
   "name": "python3"
  },
  "language_info": {
   "codemirror_mode": {
    "name": "ipython",
    "version": 3
   },
   "file_extension": ".py",
   "mimetype": "text/x-python",
   "name": "python",
   "nbconvert_exporter": "python",
   "pygments_lexer": "ipython3",
   "version": "3.10.5"
  }
 },
 "nbformat": 4,
 "nbformat_minor": 5
}
