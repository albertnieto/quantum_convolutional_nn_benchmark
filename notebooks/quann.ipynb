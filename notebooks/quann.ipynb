{
 "cells": [
  {
   "cell_type": "markdown",
   "id": "f9024c94-21ed-48c3-87c5-75a81d668c8f",
   "metadata": {
    "editable": true,
    "slideshow": {
     "slide_type": ""
    },
    "tags": []
   },
   "source": [
    "# Aux"
   ]
  },
  {
   "cell_type": "code",
   "execution_count": 1,
   "id": "9ed7a2cf-a066-4f84-8761-f86daf56521d",
   "metadata": {},
   "outputs": [],
   "source": [
    "import torch\n",
    "import torch.optim as optim\n",
    "#%pip install torchvision\n",
    "from torchvision import datasets, transforms\n",
    "from torch.utils.data import DataLoader, Subset, TensorDataset\n",
    "import numpy as np\n",
    "\n",
    "#\n",
    "import torch\n",
    "import torch.nn as nn\n",
    "import torch.optim as optim\n",
    "\n",
    "#%pip install pennylane --user\n",
    "import pennylane as qml\n",
    "from pennylane import numpy as np\n",
    "\n",
    "import sys\n",
    "import os\n",
    "\n",
    "src_path = os.path.abspath(os.path.join('..', 'src'))\n",
    "if src_path not in sys.path:\n",
    "    sys.path.append(src_path)\n",
    "\n",
    "from circuits.convolution.default import default_circuit, full_entanglement_circuit\n",
    "from circuits.convolution.NQ_circuit import NQ_circuit\n",
    "from circuits.convolution.no_entanglement_circuit import no_entanglement_random_circuit\n",
    "from circuits.embedding.default import default_embedding, custom_embedding\n",
    "from circuits.embedding.IQP_embedding import custom_iqp_embedding\n",
    "from circuits.embedding.NQE_embedding import NQE_embedding\n",
    "from circuits.embedding.qml_embeddings import angle_embedding, amplitude_embedding, QAOA_embedding, displacement_embedding, squeezing_embedding\n",
    "from circuits.measurement.default import default_measurement, custom_measurement\n",
    "from layers.quanvolution import QuanvLayer\n",
    "from models.quanvolutional_net import QuanvolutionalNet\n",
    "from utils.data_loader import load_mnist_data\n",
    "\n",
    "device = torch.device(\"cuda\" if torch.cuda.is_available() else \"cpu\")\n"
   ]
  },
  {
   "cell_type": "markdown",
   "id": "731858bd-9631-4322-a6a6-47e62b86f948",
   "metadata": {},
   "source": [
    "# Train"
   ]
  },
  {
   "cell_type": "code",
   "execution_count": 2,
   "id": "dc594922-17fc-47db-9e46-ca1b6a0409c0",
   "metadata": {
    "scrolled": true
   },
   "outputs": [
    {
     "name": "stderr",
     "output_type": "stream",
     "text": [
      "2024-10-07 08:27:25,405 - root - \u001b[94mINFO\u001b[0m - Logging is set up. (log.py:391)\n",
      "2024-10-07 08:27:25,408 - root - \u001b[94mINFO\u001b[0m - jax logs are set to ERROR level. (log.py:421)\n",
      "2024-10-07 08:27:25,409 - root - \u001b[94mINFO\u001b[0m - pennylane logs are set to ERROR level. (log.py:421)\n",
      "2024-10-07 08:27:25,409 - root - \u001b[94mINFO\u001b[0m - bokeh logs are set to ERROR level. (log.py:421)\n",
      "2024-10-07 08:27:25,412 - root - \u001b[94mINFO\u001b[0m - distributed logs are set to ERROR level. (log.py:421)\n"
     ]
    },
    {
     "name": "stdout",
     "output_type": "stream",
     "text": [
      "Using device: cpu\n"
     ]
    }
   ],
   "source": [
    "#%pip install qcml\n",
    "#%pip install scikit-learn\n",
    "#%pip install dask\n",
    "#%pip install pynvml\n",
    "#%pip install pandas\n",
    "#%pip install matplotlib --user\n",
    "#%pip install seaborn\n",
    "#%pip install jax\n",
    "from qcml.bench.grid_search import GridSearch\n",
    "from qcml.utils.log import log_setup\n",
    "import os\n",
    "\n",
    "log_settings = {\n",
    "    \"output\": \"both\",\n",
    "    \"terminal_level\": \"INFO\",\n",
    "    \"file_level\": \"DEBUG\",\n",
    "    \"hide_logs\": [\"jax\", \"pennylane\", \"bokeh\", \"distributed\"],\n",
    "    \"slack_notify\": False\n",
    "}\n",
    "\n",
    "log_setup(**log_settings)\n",
    "\n",
    "X_train, y_train, X_val, y_val = load_mnist_data(batch_size=4, output='np', limit=500)\n",
    "\n",
    "os.environ[\"JAX_PLATFORM_NAME\"] = \"cpu\"\n",
    "os.environ[\"XLA_PYTHON_CLIENT_PREALLOCATE\"] = \"false\"\n",
    "\n",
    "device = torch.device(\"cuda\" if torch.cuda.is_available() else \"cpu\")\n",
    "print(f\"Using device: {device}\")\n",
    "torch.backends.cudnn.benchmark = True"
   ]
  },
  {
   "cell_type": "code",
   "execution_count": 3,
   "id": "710ebb4e-39d0-4813-9f13-4c008e8d7b45",
   "metadata": {},
   "outputs": [
    {
     "name": "stderr",
     "output_type": "stream",
     "text": [
      "2024-10-07 08:27:26,455 - qcml.bench.grid_search - \u001b[94mINFO\u001b[0m - Starting grid search with QuanvolutionalNet, 18 combinations, 12 parallel jobs (grid_search.py:165)\n"
     ]
    },
    {
     "name": "stdout",
     "output_type": "stream",
     "text": [
      "Epoch 1/10, Loss: 2.2737\n",
      "Epoch 2/10, Loss: 2.0113\n",
      "Epoch 3/10, Loss: 1.4346\n",
      "Epoch 4/10, Loss: 0.9935\n",
      "Epoch 5/10, Loss: 0.7587\n",
      "Epoch 6/10, Loss: 0.6461\n",
      "Epoch 7/10, Loss: 0.5604\n",
      "Epoch 8/10, Loss: 0.4648\n",
      "Epoch 9/10, Loss: 0.4481\n",
      "Epoch 10/10, Loss: 0.4111\n"
     ]
    },
    {
     "name": "stderr",
     "output_type": "stream",
     "text": [
      "2024-10-07 08:27:29,552 - qcml.bench.grid_search - \u001b[94mINFO\u001b[0m - Evaluated params: {'qkernel_shape': 2, 'classical_kernel_shape': 2, 'embedding': <function amplitude_embedding at 0x000001E4F636C700>, 'circuit': <function no_entanglement_random_circuit at 0x000001E4F636C310>, 'measurement': <function default_measurement at 0x000001E4F636CA60>, 'params': {}, 'n_classes': 10, 'learning_rate': 0.00800000037997961}, accuracy: 0.7100 (grid_search.py:241)\n"
     ]
    },
    {
     "name": "stdout",
     "output_type": "stream",
     "text": [
      "Epoch 1/10, Loss: 2.2343\n",
      "Epoch 2/10, Loss: 1.4652\n",
      "Epoch 3/10, Loss: 0.8672\n",
      "Epoch 4/10, Loss: 0.6742\n",
      "Epoch 5/10, Loss: 0.5184\n",
      "Epoch 6/10, Loss: 0.4569\n",
      "Epoch 7/10, Loss: 0.3648\n",
      "Epoch 8/10, Loss: 0.2600\n",
      "Epoch 9/10, Loss: 0.2315\n",
      "Epoch 10/10, Loss: 0.1729\n"
     ]
    },
    {
     "name": "stderr",
     "output_type": "stream",
     "text": [
      "2024-10-07 08:27:32,594 - qcml.bench.grid_search - \u001b[94mINFO\u001b[0m - Evaluated params: {'qkernel_shape': 2, 'classical_kernel_shape': 2, 'embedding': <function amplitude_embedding at 0x000001E4F636C700>, 'circuit': <function no_entanglement_random_circuit at 0x000001E4F636C310>, 'measurement': <function default_measurement at 0x000001E4F636CA60>, 'params': {}, 'n_classes': 10, 'learning_rate': 0.01899999938905239}, accuracy: 0.6900 (grid_search.py:241)\n"
     ]
    },
    {
     "name": "stdout",
     "output_type": "stream",
     "text": [
      "Epoch 1/10, Loss: 2.1853\n",
      "Epoch 2/10, Loss: 1.2779\n",
      "Epoch 3/10, Loss: 0.8893\n",
      "Epoch 4/10, Loss: 0.6169\n",
      "Epoch 5/10, Loss: 0.4853\n",
      "Epoch 6/10, Loss: 0.4185\n",
      "Epoch 7/10, Loss: 0.3918\n",
      "Epoch 8/10, Loss: 0.2733\n",
      "Epoch 9/10, Loss: 0.2420\n",
      "Epoch 10/10, Loss: 0.2136\n"
     ]
    },
    {
     "name": "stderr",
     "output_type": "stream",
     "text": [
      "2024-10-07 08:27:35,714 - qcml.bench.grid_search - \u001b[94mINFO\u001b[0m - Evaluated params: {'qkernel_shape': 2, 'classical_kernel_shape': 2, 'embedding': <function amplitude_embedding at 0x000001E4F636C700>, 'circuit': <function no_entanglement_random_circuit at 0x000001E4F636C310>, 'measurement': <function default_measurement at 0x000001E4F636CA60>, 'params': {}, 'n_classes': 10, 'learning_rate': 0.029999999329447746}, accuracy: 0.7440 (grid_search.py:241)\n"
     ]
    },
    {
     "name": "stdout",
     "output_type": "stream",
     "text": [
      "Epoch 1/10, Loss: 2.2798\n",
      "Epoch 2/10, Loss: 2.0396\n",
      "Epoch 3/10, Loss: 1.4711\n",
      "Epoch 4/10, Loss: 1.0912\n",
      "Epoch 5/10, Loss: 0.8641\n",
      "Epoch 6/10, Loss: 0.7860\n",
      "Epoch 7/10, Loss: 0.6858\n",
      "Epoch 8/10, Loss: 0.5754\n",
      "Epoch 9/10, Loss: 0.5210\n",
      "Epoch 10/10, Loss: 0.4386\n"
     ]
    },
    {
     "name": "stderr",
     "output_type": "stream",
     "text": [
      "2024-10-07 08:27:38,807 - qcml.bench.grid_search - \u001b[94mINFO\u001b[0m - Evaluated params: {'qkernel_shape': 2, 'classical_kernel_shape': 3, 'embedding': <function amplitude_embedding at 0x000001E4F636C700>, 'circuit': <function no_entanglement_random_circuit at 0x000001E4F636C310>, 'measurement': <function default_measurement at 0x000001E4F636CA60>, 'params': {}, 'n_classes': 10, 'learning_rate': 0.00800000037997961}, accuracy: 0.7100 (grid_search.py:241)\n"
     ]
    },
    {
     "name": "stdout",
     "output_type": "stream",
     "text": [
      "Epoch 1/10, Loss: 2.2912\n",
      "Epoch 2/10, Loss: 1.8078\n",
      "Epoch 3/10, Loss: 1.0552\n",
      "Epoch 4/10, Loss: 0.8148\n",
      "Epoch 5/10, Loss: 0.6894\n",
      "Epoch 6/10, Loss: 0.5872\n",
      "Epoch 7/10, Loss: 0.4815\n",
      "Epoch 8/10, Loss: 0.4293\n",
      "Epoch 9/10, Loss: 0.3170\n",
      "Epoch 10/10, Loss: 0.3025\n"
     ]
    },
    {
     "name": "stderr",
     "output_type": "stream",
     "text": [
      "2024-10-07 08:27:41,916 - qcml.bench.grid_search - \u001b[94mINFO\u001b[0m - Evaluated params: {'qkernel_shape': 2, 'classical_kernel_shape': 3, 'embedding': <function amplitude_embedding at 0x000001E4F636C700>, 'circuit': <function no_entanglement_random_circuit at 0x000001E4F636C310>, 'measurement': <function default_measurement at 0x000001E4F636CA60>, 'params': {}, 'n_classes': 10, 'learning_rate': 0.01899999938905239}, accuracy: 0.7080 (grid_search.py:241)\n"
     ]
    },
    {
     "name": "stdout",
     "output_type": "stream",
     "text": [
      "Epoch 1/10, Loss: 2.2778\n",
      "Epoch 2/10, Loss: 1.6007\n",
      "Epoch 3/10, Loss: 1.1106\n",
      "Epoch 4/10, Loss: 0.7935\n",
      "Epoch 5/10, Loss: 0.6451\n",
      "Epoch 6/10, Loss: 0.4977\n",
      "Epoch 7/10, Loss: 0.4018\n",
      "Epoch 8/10, Loss: 0.3841\n",
      "Epoch 9/10, Loss: 0.3071\n",
      "Epoch 10/10, Loss: 0.2600\n"
     ]
    },
    {
     "name": "stderr",
     "output_type": "stream",
     "text": [
      "2024-10-07 08:27:45,170 - qcml.bench.grid_search - \u001b[94mINFO\u001b[0m - Evaluated params: {'qkernel_shape': 2, 'classical_kernel_shape': 3, 'embedding': <function amplitude_embedding at 0x000001E4F636C700>, 'circuit': <function no_entanglement_random_circuit at 0x000001E4F636C310>, 'measurement': <function default_measurement at 0x000001E4F636CA60>, 'params': {}, 'n_classes': 10, 'learning_rate': 0.029999999329447746}, accuracy: 0.6780 (grid_search.py:241)\n"
     ]
    },
    {
     "name": "stdout",
     "output_type": "stream",
     "text": [
      "Epoch 1/10, Loss: 2.2807\n",
      "Epoch 2/10, Loss: 2.0445\n",
      "Epoch 3/10, Loss: 1.4508\n",
      "Epoch 4/10, Loss: 1.0488\n",
      "Epoch 5/10, Loss: 0.8662\n",
      "Epoch 6/10, Loss: 0.7890\n",
      "Epoch 7/10, Loss: 0.6519\n",
      "Epoch 8/10, Loss: 0.6243\n",
      "Epoch 9/10, Loss: 0.5305\n",
      "Epoch 10/10, Loss: 0.5192\n"
     ]
    },
    {
     "name": "stderr",
     "output_type": "stream",
     "text": [
      "2024-10-07 08:27:48,158 - qcml.bench.grid_search - \u001b[94mINFO\u001b[0m - Evaluated params: {'qkernel_shape': 2, 'classical_kernel_shape': 5, 'embedding': <function amplitude_embedding at 0x000001E4F636C700>, 'circuit': <function no_entanglement_random_circuit at 0x000001E4F636C310>, 'measurement': <function default_measurement at 0x000001E4F636CA60>, 'params': {}, 'n_classes': 10, 'learning_rate': 0.00800000037997961}, accuracy: 0.6860 (grid_search.py:241)\n"
     ]
    },
    {
     "name": "stdout",
     "output_type": "stream",
     "text": [
      "Epoch 1/10, Loss: 2.2745\n",
      "Epoch 2/10, Loss: 1.7755\n",
      "Epoch 3/10, Loss: 1.3071\n",
      "Epoch 4/10, Loss: 0.9351\n",
      "Epoch 5/10, Loss: 0.8221\n",
      "Epoch 6/10, Loss: 0.7501\n",
      "Epoch 7/10, Loss: 0.5681\n",
      "Epoch 8/10, Loss: 0.4903\n",
      "Epoch 9/10, Loss: 0.4319\n",
      "Epoch 10/10, Loss: 0.3875\n"
     ]
    },
    {
     "name": "stderr",
     "output_type": "stream",
     "text": [
      "2024-10-07 08:27:51,185 - qcml.bench.grid_search - \u001b[94mINFO\u001b[0m - Evaluated params: {'qkernel_shape': 2, 'classical_kernel_shape': 5, 'embedding': <function amplitude_embedding at 0x000001E4F636C700>, 'circuit': <function no_entanglement_random_circuit at 0x000001E4F636C310>, 'measurement': <function default_measurement at 0x000001E4F636CA60>, 'params': {}, 'n_classes': 10, 'learning_rate': 0.01899999938905239}, accuracy: 0.6380 (grid_search.py:241)\n"
     ]
    },
    {
     "name": "stdout",
     "output_type": "stream",
     "text": [
      "Epoch 1/10, Loss: 2.2860\n",
      "Epoch 2/10, Loss: 1.7202\n",
      "Epoch 3/10, Loss: 1.1626\n",
      "Epoch 4/10, Loss: 1.0253\n",
      "Epoch 5/10, Loss: 0.8183\n",
      "Epoch 6/10, Loss: 0.6768\n",
      "Epoch 7/10, Loss: 0.6482\n",
      "Epoch 8/10, Loss: 0.6166\n",
      "Epoch 9/10, Loss: 0.5198\n",
      "Epoch 10/10, Loss: 0.5320\n"
     ]
    },
    {
     "name": "stderr",
     "output_type": "stream",
     "text": [
      "2024-10-07 08:27:54,163 - qcml.bench.grid_search - \u001b[94mINFO\u001b[0m - Evaluated params: {'qkernel_shape': 2, 'classical_kernel_shape': 5, 'embedding': <function amplitude_embedding at 0x000001E4F636C700>, 'circuit': <function no_entanglement_random_circuit at 0x000001E4F636C310>, 'measurement': <function default_measurement at 0x000001E4F636CA60>, 'params': {}, 'n_classes': 10, 'learning_rate': 0.029999999329447746}, accuracy: 0.6300 (grid_search.py:241)\n"
     ]
    },
    {
     "name": "stdout",
     "output_type": "stream",
     "text": [
      "Epoch 1/10, Loss: 2.2935\n",
      "Epoch 2/10, Loss: 2.1499\n",
      "Epoch 3/10, Loss: 1.7412\n",
      "Epoch 4/10, Loss: 1.2569\n",
      "Epoch 5/10, Loss: 1.0226\n",
      "Epoch 6/10, Loss: 0.9243\n",
      "Epoch 7/10, Loss: 0.8283\n",
      "Epoch 8/10, Loss: 0.7095\n",
      "Epoch 9/10, Loss: 0.6666\n",
      "Epoch 10/10, Loss: 0.5961\n"
     ]
    },
    {
     "name": "stderr",
     "output_type": "stream",
     "text": [
      "2024-10-07 08:28:27,417 - qcml.bench.grid_search - \u001b[94mINFO\u001b[0m - Evaluated params: {'qkernel_shape': 3, 'classical_kernel_shape': 2, 'embedding': <function amplitude_embedding at 0x000001E4F636C700>, 'circuit': <function no_entanglement_random_circuit at 0x000001E4F636C310>, 'measurement': <function default_measurement at 0x000001E4F636CA60>, 'params': {}, 'n_classes': 10, 'learning_rate': 0.00800000037997961}, accuracy: 0.7160 (grid_search.py:241)\n"
     ]
    },
    {
     "name": "stdout",
     "output_type": "stream",
     "text": [
      "Epoch 1/10, Loss: 2.3021\n",
      "Epoch 2/10, Loss: 2.1498\n",
      "Epoch 3/10, Loss: 1.6600\n",
      "Epoch 4/10, Loss: 1.1461\n",
      "Epoch 5/10, Loss: 0.9124\n",
      "Epoch 6/10, Loss: 0.8092\n",
      "Epoch 7/10, Loss: 0.7404\n",
      "Epoch 8/10, Loss: 0.6344\n",
      "Epoch 9/10, Loss: 0.5754\n",
      "Epoch 10/10, Loss: 0.5842\n"
     ]
    },
    {
     "name": "stderr",
     "output_type": "stream",
     "text": [
      "2024-10-07 08:29:02,924 - qcml.bench.grid_search - \u001b[94mINFO\u001b[0m - Evaluated params: {'qkernel_shape': 3, 'classical_kernel_shape': 2, 'embedding': <function amplitude_embedding at 0x000001E4F636C700>, 'circuit': <function no_entanglement_random_circuit at 0x000001E4F636C310>, 'measurement': <function default_measurement at 0x000001E4F636CA60>, 'params': {}, 'n_classes': 10, 'learning_rate': 0.01899999938905239}, accuracy: 0.6860 (grid_search.py:241)\n"
     ]
    },
    {
     "name": "stdout",
     "output_type": "stream",
     "text": [
      "Epoch 1/10, Loss: 2.3032\n",
      "Epoch 2/10, Loss: 2.2383\n",
      "Epoch 3/10, Loss: 1.7143\n",
      "Epoch 4/10, Loss: 1.2611\n",
      "Epoch 5/10, Loss: 0.9911\n",
      "Epoch 6/10, Loss: 0.7828\n",
      "Epoch 7/10, Loss: 0.6701\n",
      "Epoch 8/10, Loss: 0.5737\n",
      "Epoch 9/10, Loss: 0.5235\n",
      "Epoch 10/10, Loss: 0.4466\n"
     ]
    },
    {
     "name": "stderr",
     "output_type": "stream",
     "text": [
      "2024-10-07 08:29:36,115 - qcml.bench.grid_search - \u001b[94mINFO\u001b[0m - Evaluated params: {'qkernel_shape': 3, 'classical_kernel_shape': 2, 'embedding': <function amplitude_embedding at 0x000001E4F636C700>, 'circuit': <function no_entanglement_random_circuit at 0x000001E4F636C310>, 'measurement': <function default_measurement at 0x000001E4F636CA60>, 'params': {}, 'n_classes': 10, 'learning_rate': 0.029999999329447746}, accuracy: 0.6780 (grid_search.py:241)\n"
     ]
    },
    {
     "name": "stdout",
     "output_type": "stream",
     "text": [
      "Epoch 1/10, Loss: 2.3082\n",
      "Epoch 2/10, Loss: 2.2936\n",
      "Epoch 3/10, Loss: 2.2811\n",
      "Epoch 4/10, Loss: 2.2247\n",
      "Epoch 5/10, Loss: 2.0098\n",
      "Epoch 6/10, Loss: 1.6542\n",
      "Epoch 7/10, Loss: 1.3064\n",
      "Epoch 8/10, Loss: 1.0688\n",
      "Epoch 9/10, Loss: 0.9535\n",
      "Epoch 10/10, Loss: 0.8914\n"
     ]
    },
    {
     "name": "stderr",
     "output_type": "stream",
     "text": [
      "2024-10-07 08:30:11,398 - qcml.bench.grid_search - \u001b[94mINFO\u001b[0m - Evaluated params: {'qkernel_shape': 3, 'classical_kernel_shape': 3, 'embedding': <function amplitude_embedding at 0x000001E4F636C700>, 'circuit': <function no_entanglement_random_circuit at 0x000001E4F636C310>, 'measurement': <function default_measurement at 0x000001E4F636CA60>, 'params': {}, 'n_classes': 10, 'learning_rate': 0.00800000037997961}, accuracy: 0.6440 (grid_search.py:241)\n"
     ]
    },
    {
     "name": "stdout",
     "output_type": "stream",
     "text": [
      "Epoch 1/10, Loss: 2.3087\n",
      "Epoch 2/10, Loss: 2.2909\n",
      "Epoch 3/10, Loss: 2.2857\n",
      "Epoch 4/10, Loss: 2.1818\n",
      "Epoch 5/10, Loss: 1.7794\n",
      "Epoch 6/10, Loss: 1.2707\n",
      "Epoch 7/10, Loss: 1.0804\n",
      "Epoch 8/10, Loss: 0.9579\n",
      "Epoch 9/10, Loss: 0.8350\n",
      "Epoch 10/10, Loss: 0.7684\n"
     ]
    },
    {
     "name": "stderr",
     "output_type": "stream",
     "text": [
      "2024-10-07 08:30:40,633 - qcml.bench.grid_search - \u001b[94mINFO\u001b[0m - Evaluated params: {'qkernel_shape': 3, 'classical_kernel_shape': 3, 'embedding': <function amplitude_embedding at 0x000001E4F636C700>, 'circuit': <function no_entanglement_random_circuit at 0x000001E4F636C310>, 'measurement': <function default_measurement at 0x000001E4F636CA60>, 'params': {}, 'n_classes': 10, 'learning_rate': 0.01899999938905239}, accuracy: 0.6540 (grid_search.py:241)\n"
     ]
    },
    {
     "name": "stdout",
     "output_type": "stream",
     "text": [
      "Epoch 1/10, Loss: 2.3270\n",
      "Epoch 2/10, Loss: 2.3008\n",
      "Epoch 3/10, Loss: 2.2956\n",
      "Epoch 4/10, Loss: 2.3015\n",
      "Epoch 5/10, Loss: 2.2973\n",
      "Epoch 6/10, Loss: 2.2991\n",
      "Epoch 7/10, Loss: 2.2968\n",
      "Epoch 8/10, Loss: 2.2980\n",
      "Epoch 9/10, Loss: 2.2992\n",
      "Epoch 10/10, Loss: 2.2987\n"
     ]
    },
    {
     "name": "stderr",
     "output_type": "stream",
     "text": [
      "2024-10-07 08:31:07,791 - qcml.bench.grid_search - \u001b[94mINFO\u001b[0m - Evaluated params: {'qkernel_shape': 3, 'classical_kernel_shape': 3, 'embedding': <function amplitude_embedding at 0x000001E4F636C700>, 'circuit': <function no_entanglement_random_circuit at 0x000001E4F636C310>, 'measurement': <function default_measurement at 0x000001E4F636CA60>, 'params': {}, 'n_classes': 10, 'learning_rate': 0.029999999329447746}, accuracy: 0.1340 (grid_search.py:241)\n"
     ]
    },
    {
     "name": "stdout",
     "output_type": "stream",
     "text": [
      "Epoch 1/10, Loss: 2.3102\n",
      "Epoch 2/10, Loss: 2.2875\n",
      "Epoch 3/10, Loss: 2.2437\n",
      "Epoch 4/10, Loss: 2.0409\n",
      "Epoch 5/10, Loss: 1.7541\n",
      "Epoch 6/10, Loss: 1.4814\n",
      "Epoch 7/10, Loss: 1.3111\n",
      "Epoch 8/10, Loss: 1.0924\n",
      "Epoch 9/10, Loss: 0.9978\n",
      "Epoch 10/10, Loss: 0.8488\n"
     ]
    },
    {
     "name": "stderr",
     "output_type": "stream",
     "text": [
      "2024-10-07 08:31:38,847 - qcml.bench.grid_search - \u001b[94mINFO\u001b[0m - Evaluated params: {'qkernel_shape': 3, 'classical_kernel_shape': 5, 'embedding': <function amplitude_embedding at 0x000001E4F636C700>, 'circuit': <function no_entanglement_random_circuit at 0x000001E4F636C310>, 'measurement': <function default_measurement at 0x000001E4F636CA60>, 'params': {}, 'n_classes': 10, 'learning_rate': 0.00800000037997961}, accuracy: 0.6340 (grid_search.py:241)\n"
     ]
    },
    {
     "name": "stdout",
     "output_type": "stream",
     "text": [
      "Epoch 1/10, Loss: 2.3104\n",
      "Epoch 2/10, Loss: 2.3007\n",
      "Epoch 3/10, Loss: 2.3005\n",
      "Epoch 4/10, Loss: 2.2958\n",
      "Epoch 5/10, Loss: 2.2967\n",
      "Epoch 6/10, Loss: 2.2969\n",
      "Epoch 7/10, Loss: 2.2976\n",
      "Epoch 8/10, Loss: 2.2988\n",
      "Epoch 9/10, Loss: 2.3011\n",
      "Epoch 10/10, Loss: 2.2976\n"
     ]
    },
    {
     "name": "stderr",
     "output_type": "stream",
     "text": [
      "2024-10-07 08:32:12,260 - qcml.bench.grid_search - \u001b[94mINFO\u001b[0m - Evaluated params: {'qkernel_shape': 3, 'classical_kernel_shape': 5, 'embedding': <function amplitude_embedding at 0x000001E4F636C700>, 'circuit': <function no_entanglement_random_circuit at 0x000001E4F636C310>, 'measurement': <function default_measurement at 0x000001E4F636CA60>, 'params': {}, 'n_classes': 10, 'learning_rate': 0.01899999938905239}, accuracy: 0.1340 (grid_search.py:241)\n"
     ]
    },
    {
     "name": "stdout",
     "output_type": "stream",
     "text": [
      "Epoch 1/10, Loss: 2.3214\n",
      "Epoch 2/10, Loss: 2.3029\n",
      "Epoch 3/10, Loss: 2.2981\n",
      "Epoch 4/10, Loss: 2.2953\n",
      "Epoch 5/10, Loss: 2.2982\n",
      "Epoch 6/10, Loss: 2.2971\n",
      "Epoch 7/10, Loss: 2.3007\n",
      "Epoch 8/10, Loss: 2.3015\n",
      "Epoch 9/10, Loss: 2.3000\n",
      "Epoch 10/10, Loss: 2.2999\n"
     ]
    },
    {
     "name": "stderr",
     "output_type": "stream",
     "text": [
      "2024-10-07 08:32:39,152 - qcml.bench.grid_search - \u001b[94mINFO\u001b[0m - Evaluated params: {'qkernel_shape': 3, 'classical_kernel_shape': 5, 'embedding': <function amplitude_embedding at 0x000001E4F636C700>, 'circuit': <function no_entanglement_random_circuit at 0x000001E4F636C310>, 'measurement': <function default_measurement at 0x000001E4F636CA60>, 'params': {}, 'n_classes': 10, 'learning_rate': 0.029999999329447746}, accuracy: 0.1340 (grid_search.py:241)\n",
      "2024-10-07 08:32:39,164 - qcml.utils.storage - \u001b[94mINFO\u001b[0m - Results saved to results/grid_search/QuanvolutionalNet-quantum_mnist_amplitude,_best-hypa.csv, file size: 8054 bytes (storage.py:48)\n"
     ]
    }
   ],
   "source": [
    "import itertools\n",
    "\n",
    "embedding_type = \"amplitude\"\n",
    "\n",
    "qkernel_shape = [2, 3]\n",
    "classical_kernel_shape = [2, 3, 5]\n",
    "\n",
    "if embedding_type == \"angle\":\n",
    "\n",
    "    # Angle embedding\n",
    "\n",
    "    embedding = angle_embedding\n",
    "    circuit = no_entanglement_random_circuit\n",
    "    params = {}\n",
    "\n",
    "    lrs = torch.linspace(0.009, 0.08, 3, requires_grad=False)\n",
    "    learning_rates = [lr.item() for lr in lrs] \n",
    "    \n",
    "\n",
    "elif embedding_type == \"amplitude\":\n",
    "\n",
    "    # Amplitude embedding\n",
    "\n",
    "    embedding = amplitude_embedding\n",
    "    circuit = no_entanglement_random_circuit\n",
    "    params = {}\n",
    "\n",
    "    lrs = torch.linspace(0.008, 0.03, 3, requires_grad=False)\n",
    "    learning_rates = [lr.item() for lr in lrs]\n",
    "    \n",
    "\n",
    "elif embedding_type == \"IQP\":\n",
    "\n",
    "    # IQP embedding\n",
    "\n",
    "    embedding = custom_iqp_embedding\n",
    "    circuit = full_entanglement_circuit\n",
    "    params = {\"embedding\": {\"n_repeats\": 2},\n",
    "              \"circuit\": {\"num_layers\": 2}}\n",
    "\n",
    "    lrs = torch.linspace(0.008, 0.05, 5, requires_grad=False)\n",
    "    learning_rates = [lr.item() for lr in lrs]\n",
    "\n",
    "elif embedding_type == \"NQE\":\n",
    "\n",
    "    # NQE embedding\n",
    "\n",
    "    embedding = NQE_embedding\n",
    "    circuit = NQ_circuit\n",
    "    params = {\"embedding\": {\"n_repeats\": 2}}\n",
    "\n",
    "    lrs = torch.linspace(0.008, 0.05, 5, requires_grad=False)\n",
    "    learning_rates = [lr.item() for lr in lrs]\n",
    "\n",
    "elif embedding_type == \"displacement\":\n",
    "\n",
    "    # Displacement embedding\n",
    "\n",
    "    embedding = displacement_embedding\n",
    "    circuit = no_entanglement_random_circuit\n",
    "    params = {}\n",
    "\n",
    "    lrs = torch.linspace(0.009, 0.08, 3, requires_grad=False)\n",
    "    learning_rates = [lr.item() for lr in lrs]\n",
    "\n",
    "elif embedding_type == \"squeezing\":\n",
    "\n",
    "    # Squeezing embedding\n",
    "\n",
    "    embedding = squeezing_embedding\n",
    "    circuit = no_entanglement_random_circuit\n",
    "    params = {}\n",
    "\n",
    "    lrs = torch.linspace(0.009, 0.08, 3, requires_grad=False)\n",
    "    learning_rates = [lr.item() for lr in lrs]\n",
    "\n",
    "elif embedding_type == \"QAOA\":\n",
    "\n",
    "    # Squeezing embedding\n",
    "\n",
    "    embedding = QAOA_embedding\n",
    "    circuit = NQ_circuit\n",
    "    params = {\"embedding\": {\"qkernel_shape\": 3}}\n",
    "\n",
    "    lrs = torch.linspace(0.009, 0.03, 3, requires_grad=False)\n",
    "    learning_rates = [lr.item() for lr in lrs]\n",
    "\n",
    "model_grid = {\n",
    "        \"qkernel_shape\": qkernel_shape,\n",
    "        \"classical_kernel_shape\": classical_kernel_shape,\n",
    "        \"embedding\":[embedding],\n",
    "        \"circuit\":[circuit],\n",
    "        \"measurement\":[default_measurement],\n",
    "        \"params\":[params],\n",
    "        \"n_classes\":[10],\n",
    "        \"learning_rate\": learning_rates\n",
    "    }\n",
    "\n",
    "experiment_name = \"quantum_mnist_\" + embedding_type + \",\"\n",
    "\n",
    "gs = GridSearch(\n",
    "    classifiers=[QuanvolutionalNet],\n",
    "    param_grid=model_grid,\n",
    "    #combinations=combinations,\n",
    "    batch_size=50,\n",
    "    experiment_name=experiment_name\n",
    ").run(X_train=X_train, y_train=y_train, X_val=X_val, y_val=y_val)"
   ]
  },
  {
   "cell_type": "code",
   "execution_count": 7,
   "id": "c321c41c-1f07-4b23-ae1f-61841772586b",
   "metadata": {},
   "outputs": [
    {
     "name": "stderr",
     "output_type": "stream",
     "text": [
      "2024-09-30 09:15:21,877 - qcml.bench.grid_search - \u001b[94mINFO\u001b[0m - Starting grid search with QuanvolutionalNet, 3 combinations, 50 parallel jobs (grid_search.py:165)\n",
      "2024-09-30 09:15:21,880 - qcml.bench.grid_search - \u001b[91mERROR\u001b[0m - Error with parameters {'classical_kernel_shape': 2, 'n_classes': 10, 'use_quantum': False}: '<=' not supported between instances of 'float' and 'NoneType' (grid_search.py:246)\n"
     ]
    },
    {
     "ename": "TypeError",
     "evalue": "'<=' not supported between instances of 'float' and 'NoneType'",
     "output_type": "error",
     "traceback": [
      "\u001b[0;31m---------------------------------------------------------------------------\u001b[0m",
      "\u001b[0;31mTypeError\u001b[0m                                 Traceback (most recent call last)",
      "Cell \u001b[0;32mIn[7], line 7\u001b[0m\n\u001b[1;32m      1\u001b[0m model_grid_classical \u001b[38;5;241m=\u001b[39m {\n\u001b[1;32m      2\u001b[0m     \u001b[38;5;124m\"\u001b[39m\u001b[38;5;124mclassical_kernel_shape\u001b[39m\u001b[38;5;124m\"\u001b[39m: [\u001b[38;5;241m2\u001b[39m, \u001b[38;5;241m3\u001b[39m, \u001b[38;5;241m5\u001b[39m],\n\u001b[1;32m      3\u001b[0m     \u001b[38;5;124m\"\u001b[39m\u001b[38;5;124mn_classes\u001b[39m\u001b[38;5;124m\"\u001b[39m: [\u001b[38;5;241m10\u001b[39m],\n\u001b[1;32m      4\u001b[0m     \u001b[38;5;124m\"\u001b[39m\u001b[38;5;124muse_quantum\u001b[39m\u001b[38;5;124m\"\u001b[39m: [\u001b[38;5;28;01mFalse\u001b[39;00m],\n\u001b[1;32m      5\u001b[0m }\n\u001b[0;32m----> 7\u001b[0m gs \u001b[38;5;241m=\u001b[39m \u001b[43mGridSearch\u001b[49m\u001b[43m(\u001b[49m\n\u001b[1;32m      8\u001b[0m \u001b[43m    \u001b[49m\u001b[43mclassifiers\u001b[49m\u001b[38;5;241;43m=\u001b[39;49m\u001b[43m[\u001b[49m\u001b[43mQuanvolutionalNet\u001b[49m\u001b[43m]\u001b[49m\u001b[43m,\u001b[49m\n\u001b[1;32m      9\u001b[0m \u001b[43m    \u001b[49m\u001b[43mparam_grid\u001b[49m\u001b[38;5;241;43m=\u001b[39;49m\u001b[43mmodel_grid_classical\u001b[49m\u001b[43m,\u001b[49m\n\u001b[1;32m     10\u001b[0m \u001b[43m    \u001b[49m\u001b[38;5;66;43;03m#checkpoint_interval=1,\u001b[39;49;00m\n\u001b[1;32m     11\u001b[0m \u001b[43m    \u001b[49m\u001b[43mbatch_size\u001b[49m\u001b[38;5;241;43m=\u001b[39;49m\u001b[38;5;241;43m50\u001b[39;49m\u001b[43m,\u001b[49m\n\u001b[1;32m     12\u001b[0m \u001b[43m    \u001b[49m\u001b[43mexperiment_name\u001b[49m\u001b[38;5;241;43m=\u001b[39;49m\u001b[38;5;124;43m\"\u001b[39;49m\u001b[38;5;124;43mclassical_mnist,\u001b[39;49m\u001b[38;5;124;43m\"\u001b[39;49m\n\u001b[1;32m     13\u001b[0m \u001b[43m)\u001b[49m\u001b[38;5;241;43m.\u001b[39;49m\u001b[43mrun\u001b[49m\u001b[43m(\u001b[49m\u001b[43mX_train\u001b[49m\u001b[38;5;241;43m=\u001b[39;49m\u001b[43mX_train\u001b[49m\u001b[43m,\u001b[49m\u001b[43m \u001b[49m\u001b[43my_train\u001b[49m\u001b[38;5;241;43m=\u001b[39;49m\u001b[43my_train\u001b[49m\u001b[43m,\u001b[49m\u001b[43m \u001b[49m\u001b[43mX_val\u001b[49m\u001b[38;5;241;43m=\u001b[39;49m\u001b[43mX_val\u001b[49m\u001b[43m,\u001b[49m\u001b[43m \u001b[49m\u001b[43my_val\u001b[49m\u001b[38;5;241;43m=\u001b[39;49m\u001b[43my_val\u001b[49m\u001b[43m)\u001b[49m\n",
      "File \u001b[0;32m~/.local/lib/python3.10/site-packages/qcml/bench/grid_search.py:106\u001b[0m, in \u001b[0;36mGridSearch.run\u001b[0;34m(self, datasets, X, y, X_train, y_train, X_val, y_val, return_best)\u001b[0m\n\u001b[1;32m    104\u001b[0m \u001b[38;5;28;01melse\u001b[39;00m:\n\u001b[1;32m    105\u001b[0m     \u001b[38;5;28;01mfor\u001b[39;00m \u001b[38;5;28mcls\u001b[39m \u001b[38;5;129;01min\u001b[39;00m \u001b[38;5;28mself\u001b[39m\u001b[38;5;241m.\u001b[39mclassifiers:\n\u001b[0;32m--> 106\u001b[0m         result \u001b[38;5;241m=\u001b[39m \u001b[38;5;28;43mself\u001b[39;49m\u001b[38;5;241;43m.\u001b[39;49m\u001b[43m_process_dataset\u001b[49m\u001b[43m(\u001b[49m\n\u001b[1;32m    107\u001b[0m \u001b[43m            \u001b[49m\u001b[38;5;28;43mcls\u001b[39;49m\u001b[43m,\u001b[49m\u001b[43m \u001b[49m\u001b[38;5;28;43;01mNone\u001b[39;49;00m\u001b[43m,\u001b[49m\u001b[43m \u001b[49m\u001b[43mX_train\u001b[49m\u001b[43m,\u001b[49m\u001b[43m \u001b[49m\u001b[43my_train\u001b[49m\u001b[43m,\u001b[49m\u001b[43m \u001b[49m\u001b[43mX_val\u001b[49m\u001b[43m,\u001b[49m\u001b[43m \u001b[49m\u001b[43my_val\u001b[49m\u001b[43m,\u001b[49m\u001b[43m \u001b[49m\u001b[43mreturn_best\u001b[49m\u001b[43m,\u001b[49m\u001b[43m \u001b[49m\u001b[43mX\u001b[49m\u001b[43m,\u001b[49m\u001b[43m \u001b[49m\u001b[43my\u001b[49m\n\u001b[1;32m    108\u001b[0m \u001b[43m        \u001b[49m\u001b[43m)\u001b[49m\n\u001b[1;32m    109\u001b[0m         all_results\u001b[38;5;241m.\u001b[39mappend(result)\n\u001b[1;32m    111\u001b[0m \u001b[38;5;28;01mreturn\u001b[39;00m \u001b[38;5;28mself\u001b[39m\u001b[38;5;241m.\u001b[39m_select_best_model() \u001b[38;5;28;01mif\u001b[39;00m return_best \u001b[38;5;28;01melse\u001b[39;00m all_results\n",
      "File \u001b[0;32m~/.local/lib/python3.10/site-packages/qcml/bench/grid_search.py:169\u001b[0m, in \u001b[0;36mGridSearch._process_dataset\u001b[0;34m(self, cls, dataset, X_train, y_train, X_val, y_val, return_best, X, y)\u001b[0m\n\u001b[1;32m    164\u001b[0m classifier_name \u001b[38;5;241m=\u001b[39m \u001b[38;5;28mgetattr\u001b[39m(\u001b[38;5;28mcls\u001b[39m, \u001b[38;5;124m\"\u001b[39m\u001b[38;5;124m__name__\u001b[39m\u001b[38;5;124m\"\u001b[39m, \u001b[38;5;28mcls\u001b[39m\u001b[38;5;241m.\u001b[39m\u001b[38;5;18m__class__\u001b[39m\u001b[38;5;241m.\u001b[39m\u001b[38;5;18m__name__\u001b[39m)\n\u001b[1;32m    165\u001b[0m logger\u001b[38;5;241m.\u001b[39minfo(\n\u001b[1;32m    166\u001b[0m     \u001b[38;5;124mf\u001b[39m\u001b[38;5;124m\"\u001b[39m\u001b[38;5;124mStarting grid search with \u001b[39m\u001b[38;5;132;01m{\u001b[39;00mclassifier_name\u001b[38;5;132;01m}\u001b[39;00m\u001b[38;5;124m, \u001b[39m\u001b[38;5;132;01m{\u001b[39;00m\u001b[38;5;28mlen\u001b[39m(\u001b[38;5;28mself\u001b[39m\u001b[38;5;241m.\u001b[39mcombinations)\u001b[38;5;132;01m}\u001b[39;00m\u001b[38;5;124m combinations, \u001b[39m\u001b[38;5;132;01m{\u001b[39;00m\u001b[38;5;28mself\u001b[39m\u001b[38;5;241m.\u001b[39mn_jobs\u001b[38;5;132;01m}\u001b[39;00m\u001b[38;5;124m parallel jobs\u001b[39m\u001b[38;5;124m\"\u001b[39m\n\u001b[1;32m    167\u001b[0m )\n\u001b[0;32m--> 169\u001b[0m best_score, best_params, best_model \u001b[38;5;241m=\u001b[39m \u001b[38;5;28;43mself\u001b[39;49m\u001b[38;5;241;43m.\u001b[39;49m\u001b[43m_evaluate_combinations\u001b[49m\u001b[43m(\u001b[49m\n\u001b[1;32m    170\u001b[0m \u001b[43m    \u001b[49m\u001b[38;5;28;43mcls\u001b[39;49m\u001b[43m,\u001b[49m\u001b[43m \u001b[49m\u001b[43mclassifier_name\u001b[49m\u001b[43m,\u001b[49m\u001b[43m \u001b[49m\u001b[43mX_train\u001b[49m\u001b[43m,\u001b[49m\u001b[43m \u001b[49m\u001b[43my_train\u001b[49m\u001b[43m,\u001b[49m\u001b[43m \u001b[49m\u001b[43mX_val\u001b[49m\u001b[43m,\u001b[49m\u001b[43m \u001b[49m\u001b[43my_val\u001b[49m\n\u001b[1;32m    171\u001b[0m \u001b[43m\u001b[49m\u001b[43m)\u001b[49m\n\u001b[1;32m    173\u001b[0m \u001b[38;5;66;03m# Save results to CSV\u001b[39;00m\n\u001b[1;32m    174\u001b[0m save_results_to_csv(\n\u001b[1;32m    175\u001b[0m     \u001b[38;5;28mself\u001b[39m\u001b[38;5;241m.\u001b[39mresults,\n\u001b[1;32m    176\u001b[0m     classifier_name,\n\u001b[1;32m    177\u001b[0m     \u001b[38;5;28mself\u001b[39m\u001b[38;5;241m.\u001b[39mexperiment_name,\n\u001b[1;32m    178\u001b[0m     \u001b[38;5;28mself\u001b[39m\u001b[38;5;241m.\u001b[39mresults_path,\n\u001b[1;32m    179\u001b[0m )\n",
      "File \u001b[0;32m~/.local/lib/python3.10/site-packages/qcml/bench/grid_search.py:250\u001b[0m, in \u001b[0;36mGridSearch._evaluate_combinations\u001b[0;34m(self, classifier, classifier_name, X_train, y_train, X_val, y_val)\u001b[0m\n\u001b[1;32m    248\u001b[0m         logger\u001b[38;5;241m.\u001b[39merror(traceback\u001b[38;5;241m.\u001b[39mformat_exc())\n\u001b[1;32m    249\u001b[0m     \u001b[38;5;28;01mif\u001b[39;00m \u001b[38;5;28mself\u001b[39m\u001b[38;5;241m.\u001b[39merror_stop:\n\u001b[0;32m--> 250\u001b[0m         \u001b[38;5;28;01mraise\u001b[39;00m e\n\u001b[1;32m    252\u001b[0m \u001b[38;5;28;01mif\u001b[39;00m \u001b[38;5;28mself\u001b[39m\u001b[38;5;241m.\u001b[39mlog_level \u001b[38;5;241m==\u001b[39m \u001b[38;5;124m\"\u001b[39m\u001b[38;5;124mbatch\u001b[39m\u001b[38;5;124m\"\u001b[39m \u001b[38;5;129;01mand\u001b[39;00m (idx \u001b[38;5;241m+\u001b[39m \u001b[38;5;241m1\u001b[39m) \u001b[38;5;241m%\u001b[39m \u001b[38;5;28mself\u001b[39m\u001b[38;5;241m.\u001b[39mbatch_size \u001b[38;5;241m==\u001b[39m \u001b[38;5;241m0\u001b[39m:\n\u001b[1;32m    253\u001b[0m     logger\u001b[38;5;241m.\u001b[39minfo(\u001b[38;5;124mf\u001b[39m\u001b[38;5;124m\"\u001b[39m\u001b[38;5;124mProcessed \u001b[39m\u001b[38;5;132;01m{\u001b[39;00midx\u001b[38;5;250m \u001b[39m\u001b[38;5;241m+\u001b[39m\u001b[38;5;250m \u001b[39m\u001b[38;5;241m1\u001b[39m\u001b[38;5;132;01m}\u001b[39;00m\u001b[38;5;124m/\u001b[39m\u001b[38;5;132;01m{\u001b[39;00mtotal_combinations\u001b[38;5;132;01m}\u001b[39;00m\u001b[38;5;124m combinations.\u001b[39m\u001b[38;5;124m\"\u001b[39m)\n",
      "File \u001b[0;32m~/.local/lib/python3.10/site-packages/qcml/bench/grid_search.py:210\u001b[0m, in \u001b[0;36mGridSearch._evaluate_combinations\u001b[0;34m(self, classifier, classifier_name, X_train, y_train, X_val, y_val)\u001b[0m\n\u001b[1;32m    207\u001b[0m     \u001b[38;5;28;01mcontinue\u001b[39;00m  \u001b[38;5;66;03m# Skip invalid combinations\u001b[39;00m\n\u001b[1;32m    209\u001b[0m \u001b[38;5;28;01mtry\u001b[39;00m:\n\u001b[0;32m--> 210\u001b[0m     evaluation_result \u001b[38;5;241m=\u001b[39m \u001b[38;5;28;43mself\u001b[39;49m\u001b[38;5;241;43m.\u001b[39;49m\u001b[43mevaluator\u001b[49m\u001b[38;5;241;43m.\u001b[39;49m\u001b[43mevaluate\u001b[49m\u001b[43m(\u001b[49m\n\u001b[1;32m    211\u001b[0m \u001b[43m        \u001b[49m\u001b[43mclassifier\u001b[49m\u001b[43m,\u001b[49m\n\u001b[1;32m    212\u001b[0m \u001b[43m        \u001b[49m\u001b[43mparams\u001b[49m\u001b[43m,\u001b[49m\n\u001b[1;32m    213\u001b[0m \u001b[43m        \u001b[49m\u001b[43mX_train\u001b[49m\u001b[43m,\u001b[49m\n\u001b[1;32m    214\u001b[0m \u001b[43m        \u001b[49m\u001b[43my_train\u001b[49m\u001b[43m,\u001b[49m\n\u001b[1;32m    215\u001b[0m \u001b[43m        \u001b[49m\u001b[43mX_val\u001b[49m\u001b[43m,\u001b[49m\n\u001b[1;32m    216\u001b[0m \u001b[43m        \u001b[49m\u001b[43my_val\u001b[49m\u001b[43m,\u001b[49m\n\u001b[1;32m    217\u001b[0m \u001b[43m        \u001b[49m\u001b[43mtrans_func\u001b[49m\u001b[43m,\u001b[49m\n\u001b[1;32m    218\u001b[0m \u001b[43m        \u001b[49m\u001b[43mtrans_params\u001b[49m\u001b[43m,\u001b[49m\n\u001b[1;32m    219\u001b[0m \u001b[43m    \u001b[49m\u001b[43m)\u001b[49m\n\u001b[1;32m    221\u001b[0m     \u001b[38;5;28mself\u001b[39m\u001b[38;5;241m.\u001b[39mresults\u001b[38;5;241m.\u001b[39mappend(\n\u001b[1;32m    222\u001b[0m         {\n\u001b[1;32m    223\u001b[0m             \u001b[38;5;124m\"\u001b[39m\u001b[38;5;124mexperiment_name\u001b[39m\u001b[38;5;124m\"\u001b[39m: \u001b[38;5;28mself\u001b[39m\u001b[38;5;241m.\u001b[39mexperiment_name,\n\u001b[0;32m   (...)\u001b[0m\n\u001b[1;32m    232\u001b[0m         }\n\u001b[1;32m    233\u001b[0m     )\n\u001b[1;32m    235\u001b[0m     \u001b[38;5;28;01mif\u001b[39;00m evaluation_result[\u001b[38;5;124m\"\u001b[39m\u001b[38;5;124maccuracy\u001b[39m\u001b[38;5;124m\"\u001b[39m] \u001b[38;5;241m>\u001b[39m best_score:\n",
      "File \u001b[0;32m~/.local/lib/python3.10/site-packages/qcml/bench/model_evaluator.py:47\u001b[0m, in \u001b[0;36mModelEvaluator.evaluate\u001b[0;34m(self, classifier, params, X_train, y_train, X_val, y_val, trans_func, trans_params)\u001b[0m\n\u001b[1;32m     45\u001b[0m \u001b[38;5;66;03m# Train and evaluate the model\u001b[39;00m\n\u001b[1;32m     46\u001b[0m model \u001b[38;5;241m=\u001b[39m classifier(\u001b[38;5;241m*\u001b[39m\u001b[38;5;241m*\u001b[39mparams)\n\u001b[0;32m---> 47\u001b[0m \u001b[43mmodel\u001b[49m\u001b[38;5;241;43m.\u001b[39;49m\u001b[43mfit\u001b[49m\u001b[43m(\u001b[49m\u001b[43mX_train\u001b[49m\u001b[43m,\u001b[49m\u001b[43m \u001b[49m\u001b[43my_train\u001b[49m\u001b[43m)\u001b[49m\n\u001b[1;32m     48\u001b[0m predictions \u001b[38;5;241m=\u001b[39m model\u001b[38;5;241m.\u001b[39mpredict(X_val)\n\u001b[1;32m     50\u001b[0m accuracy \u001b[38;5;241m=\u001b[39m accuracy_score(y_val, predictions)\n",
      "Cell \u001b[0;32mIn[3], line 218\u001b[0m, in \u001b[0;36mQuanvolutionalNet.fit\u001b[0;34m(self, X_train, y_train, train_loader, criterion, optimizer, epochs, batch_size)\u001b[0m\n\u001b[1;32m    214\u001b[0m     train_loader \u001b[38;5;241m=\u001b[39m DataLoader(dataset, batch_size\u001b[38;5;241m=\u001b[39m\u001b[38;5;28mself\u001b[39m\u001b[38;5;241m.\u001b[39mbatch_size, shuffle\u001b[38;5;241m=\u001b[39m\u001b[38;5;28;01mTrue\u001b[39;00m)\n\u001b[1;32m    217\u001b[0m \u001b[38;5;28;01mif\u001b[39;00m optimizer \u001b[38;5;129;01mis\u001b[39;00m \u001b[38;5;28;01mNone\u001b[39;00m:\n\u001b[0;32m--> 218\u001b[0m     optimizer \u001b[38;5;241m=\u001b[39m \u001b[43moptim\u001b[49m\u001b[38;5;241;43m.\u001b[39;49m\u001b[43mAdam\u001b[49m\u001b[43m(\u001b[49m\u001b[38;5;28;43mself\u001b[39;49m\u001b[38;5;241;43m.\u001b[39;49m\u001b[43mparameters\u001b[49m\u001b[43m(\u001b[49m\u001b[43m)\u001b[49m\u001b[43m,\u001b[49m\u001b[43m \u001b[49m\u001b[43mlr\u001b[49m\u001b[38;5;241;43m=\u001b[39;49m\u001b[38;5;28;43mself\u001b[39;49m\u001b[38;5;241;43m.\u001b[39;49m\u001b[43mlearning_rate\u001b[49m\u001b[43m)\u001b[49m\n\u001b[1;32m    220\u001b[0m \u001b[38;5;28mself\u001b[39m\u001b[38;5;241m.\u001b[39mtrain()\n\u001b[1;32m    221\u001b[0m \u001b[38;5;28mself\u001b[39m\u001b[38;5;241m.\u001b[39mto(\u001b[38;5;28mself\u001b[39m\u001b[38;5;241m.\u001b[39mdevice)\n",
      "File \u001b[0;32m~/.local/lib/python3.10/site-packages/torch/optim/adam.py:46\u001b[0m, in \u001b[0;36mAdam.__init__\u001b[0;34m(self, params, lr, betas, eps, weight_decay, amsgrad, foreach, maximize, capturable, differentiable, fused)\u001b[0m\n\u001b[1;32m     31\u001b[0m \u001b[38;5;28;01mdef\u001b[39;00m \u001b[38;5;21m__init__\u001b[39m(\n\u001b[1;32m     32\u001b[0m     \u001b[38;5;28mself\u001b[39m,\n\u001b[1;32m     33\u001b[0m     params: ParamsT,\n\u001b[0;32m   (...)\u001b[0m\n\u001b[1;32m     44\u001b[0m     fused: Optional[\u001b[38;5;28mbool\u001b[39m] \u001b[38;5;241m=\u001b[39m \u001b[38;5;28;01mNone\u001b[39;00m,\n\u001b[1;32m     45\u001b[0m ):\n\u001b[0;32m---> 46\u001b[0m     \u001b[38;5;28;01mif\u001b[39;00m \u001b[38;5;129;01mnot\u001b[39;00m \u001b[38;5;241;43m0.0\u001b[39;49m\u001b[43m \u001b[49m\u001b[38;5;241;43m<\u001b[39;49m\u001b[38;5;241;43m=\u001b[39;49m\u001b[43m \u001b[49m\u001b[43mlr\u001b[49m:\n\u001b[1;32m     47\u001b[0m         \u001b[38;5;28;01mraise\u001b[39;00m \u001b[38;5;167;01mValueError\u001b[39;00m(\u001b[38;5;124mf\u001b[39m\u001b[38;5;124m\"\u001b[39m\u001b[38;5;124mInvalid learning rate: \u001b[39m\u001b[38;5;132;01m{\u001b[39;00mlr\u001b[38;5;132;01m}\u001b[39;00m\u001b[38;5;124m\"\u001b[39m)\n\u001b[1;32m     48\u001b[0m     \u001b[38;5;28;01mif\u001b[39;00m \u001b[38;5;28misinstance\u001b[39m(lr, Tensor) \u001b[38;5;129;01mand\u001b[39;00m foreach \u001b[38;5;129;01mand\u001b[39;00m \u001b[38;5;129;01mnot\u001b[39;00m capturable:\n",
      "\u001b[0;31mTypeError\u001b[0m: '<=' not supported between instances of 'float' and 'NoneType'"
     ]
    }
   ],
   "source": [
    "model_grid_classical = {\n",
    "    \"classical_kernel_shape\": [2, 3, 5],\n",
    "    \"n_classes\": [10],\n",
    "    \"use_quantum\": [False],\n",
    "}\n",
    "\n",
    "gs = GridSearch(\n",
    "    classifiers=[QuanvolutionalNet],\n",
    "    param_grid=model_grid_classical,\n",
    "    #checkpoint_interval=1,\n",
    "    batch_size=50,\n",
    "    experiment_name=\"classical_mnist,\"\n",
    ").run(X_train=X_train, y_train=y_train, X_val=X_val, y_val=y_val)\n"
   ]
  }
 ],
 "metadata": {
  "kernelspec": {
   "display_name": "Python 3",
   "language": "python",
   "name": "python3"
  },
  "language_info": {
   "codemirror_mode": {
    "name": "ipython",
    "version": 3
   },
   "file_extension": ".py",
   "mimetype": "text/x-python",
   "name": "python",
   "nbconvert_exporter": "python",
   "pygments_lexer": "ipython3",
   "version": "3.10.5"
  }
 },
 "nbformat": 4,
 "nbformat_minor": 5
}
